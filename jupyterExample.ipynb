{
 "cells": [
  {
   "cell_type": "markdown",
   "metadata": {
    "toc-hr-collapsed": true
   },
   "source": [
    "# CS411 Educational Notebook Example\n",
    "\n",
    "This Notebook assumes that you have already known the basics of Jupyter Notebook. If not, please spend on time on going through the [Jupyter Notebook Documentation](https://docs.jupyter.org/en/latest/) and [Jupyter Notebook Tutorial](./jupyterTutorial.ipynb).\n",
    "\n",
    "For your convenience, you can find the markdown cheatsheet [here](./assets/Jupyter-Notebook-Markdown-Cheatsheet.pdf).\n"
   ]
  },
  {
   "cell_type": "markdown",
   "metadata": {},
   "source": [
    "---\n"
   ]
  },
  {
   "cell_type": "markdown",
   "metadata": {},
   "source": [
    "<h1>Educational Notebook Example: Learning Physics</h1>\n",
    "\n",
    "C. Hardebolle, [CC-BY-NC-SA 4.0](https://creativecommons.org/licenses/by-nc-sa/4.0/)\n"
   ]
  },
  {
   "cell_type": "markdown",
   "metadata": {
    "tags": [],
    "toc-hr-collapsed": true
   },
   "source": [
    "<span style=\"text-decoration:underline;font-weight:bold;\">What is this notebook about?</span>\n",
    "\n",
    "This notebook is a demonstration example, to illustrate different possibilities allowed by the technology, as well as best practices to maximize learning for students.\n",
    "\n",
    "This notebook is meant to be used as if you were a student.  \n",
    "To get a realistic experience, I advise you to **really try to perform the activities** (there are only 4 exercises, this should take you something like 20 minutes maximum).\n"
   ]
  },
  {
   "cell_type": "markdown",
   "metadata": {
    "toc-hr-collapsed": true
   },
   "source": [
    "<div style=\"padding:8px 0 8px 15px;border-left:3px solid #B51F1F;background-color:#F3F3F3;color:black;\">\n",
    "    <span style=\"text-decoration:underline;font-weight:bold;\">How to use this notebook?</span><br/>\n",
    "    <br/>Simply read the text and <strong>follow the instructions</strong>.<br/>\n",
    "    This notebook contains some code cells, which have to be <strong>executed</strong> to see the result of the program. To execute a cell, select it and click on the \"play\" button (<span style=\"font: bold 12px/30px Arial, serif;\">&#9658;</span>) in the tool bar just above the notebook, or type <code>shift + enter</code>. It is important to execute the code cells in their order of appearance in the notebook.\n",
    "</div>\n"
   ]
  },
  {
   "cell_type": "markdown",
   "metadata": {},
   "source": [
    "<br/>\n",
    "\n",
    "---\n"
   ]
  },
  {
   "cell_type": "markdown",
   "metadata": {},
   "source": [
    "# The physics of suspended objects\n",
    "\n",
    "In this notebook, you will learn about the physical principles that apply when suspending objects (forces in static equilibrium) and you will apply them to a concrete problem using Python.\n"
   ]
  },
  {
   "cell_type": "markdown",
   "metadata": {
    "tags": [],
    "toc-hr-collapsed": true
   },
   "source": [
    "## Learning goals\n",
    "\n",
    "After using this notebook, you should be able to:\n",
    "\n",
    "- Identify the forces involved when suspending an object with a cable\n",
    "- Analyze how the position of the cable influences the tension force\n",
    "- Use Python to make mathematical calculations and write simple functions\n"
   ]
  },
  {
   "cell_type": "markdown",
   "metadata": {},
   "source": [
    "## Introductory mini-lecture\n",
    "\n",
    "The video below (6 minutes) reviews the forces exerted on an object when suspended with one and two cables, while in static equilibrium.  \n",
    "**Watch this video if you need a refresher on the tension force $\\vec{T}$**. Otherwise you can jump straight to the application problem.\n",
    "\n",
    "You can find the **[slides used in the video here](figs/PhysicsMiniLecture-slides.pdf)**.\n"
   ]
  },
  {
   "cell_type": "code",
   "execution_count": 1,
   "metadata": {},
   "outputs": [
    {
     "data": {
      "text/html": [
       "\n",
       "        <iframe\n",
       "            width=\"640\"\n",
       "            height=\"360\"\n",
       "            src=\"https://tube.switch.ch/embed/QYUxxtMawn\"\n",
       "            frameborder=\"0\"\n",
       "            allowfullscreen\n",
       "            \n",
       "        ></iframe>\n",
       "        "
      ],
      "text/plain": [
       "<IPython.lib.display.IFrame at 0x7fd3681e94c0>"
      ]
     },
     "execution_count": 1,
     "metadata": {},
     "output_type": "execute_result"
    }
   ],
   "source": [
    "from IPython.display import IFrame\n",
    "\n",
    "IFrame(\"https://tube.switch.ch/embed/QYUxxtMawn\", 640, 360)"
   ]
  },
  {
   "cell_type": "markdown",
   "metadata": {
    "toc-hr-collapsed": false
   },
   "source": [
    "<br/><br/>\n",
    "\n",
    "---\n"
   ]
  },
  {
   "cell_type": "markdown",
   "metadata": {
    "tags": []
   },
   "source": [
    "# Application problem: suspended jeans\n",
    "\n",
    "<br/>\n",
    "\n",
    "The question we want to answer in this notebook is the following:\n",
    "\n",
    "**Which counterweight allows to suspend wet jeans (3kg) on the cable in the position illustrated below?**\n",
    "\n",
    "<img src=\"./assets/figs/jeans-clicker-question.png\" alt=\"suspended jeans\" style=\"width:400px;\"/>\n"
   ]
  },
  {
   "cell_type": "markdown",
   "metadata": {
    "tags": []
   },
   "source": [
    "<br/>\n",
    "\n",
    "The activities below will guide you to find out the answer to this question by exploring how the counterweight affects the position of the jeans suspended on the cable.\n"
   ]
  },
  {
   "cell_type": "markdown",
   "metadata": {},
   "source": [
    "---\n"
   ]
  },
  {
   "cell_type": "markdown",
   "metadata": {
    "tags": []
   },
   "source": [
    "# What does your intuition say?\n",
    "\n",
    "Before diving into the problem, it is interesting to figure out if you have an intuition about the answer.\n",
    "\n",
    "Research on problem solving has shown that knowing the extent and limits of your intuition plays a role in problem solving expertise.\n",
    "\n",
    "Therefore your first activity in this notebook is to try to **guess the correct answer** without solving the problem.\n"
   ]
  },
  {
   "cell_type": "markdown",
   "metadata": {},
   "source": [
    "<div style=\"padding:8px 0 8px 15px;border-left:3px solid #B51F1F;background-color:#F3F3F3;color:black;\">\n",
    "    <span style=\"font-weight:bold;text-decoration:underline;\">Activity</span><br/>\n",
    "\n",
    "**Vote for the answer you think is correct**.\n",
    "\n",
    "This poll is completely anonymous, you will not see the answers of the others (and you will not see if your answer is correct or not either).  \n",
    "The goal here is only for you to **commit to an answer**.\n",
    "\n",
    "</div>\n"
   ]
  },
  {
   "cell_type": "code",
   "execution_count": 2,
   "metadata": {},
   "outputs": [
    {
     "data": {
      "text/html": [
       "\n",
       "        <iframe\n",
       "            width=\"400\"\n",
       "            height=\"600\"\n",
       "            src=\"https://speakup.epfl.ch/room/join/14804?theme=EPFL&lang=en\"\n",
       "            frameborder=\"0\"\n",
       "            allowfullscreen\n",
       "            \n",
       "        ></iframe>\n",
       "        "
      ],
      "text/plain": [
       "<IPython.lib.display.IFrame at 0x7fd37848d4c0>"
      ]
     },
     "execution_count": 2,
     "metadata": {},
     "output_type": "execute_result"
    }
   ],
   "source": [
    "from IPython.display import IFrame\n",
    "\n",
    "IFrame(\"https://speakup.epfl.ch/room/join/14804?theme=EPFL&lang=en\", 400, 600)"
   ]
  },
  {
   "cell_type": "markdown",
   "metadata": {},
   "source": [
    "In the following, you are guided to solve this problem step by step, using Python.\n"
   ]
  },
  {
   "cell_type": "markdown",
   "metadata": {
    "toc-hr-collapsed": false
   },
   "source": [
    "---\n"
   ]
  },
  {
   "cell_type": "markdown",
   "metadata": {},
   "source": [
    "# 1. Analyzing the problem\n",
    "\n",
    "Our first step, as with any problem, should be to analyze the question into more details and this includes:\n",
    "\n",
    "- Identifying assumptions we can make to simplify the question\n",
    "- Making a sketch\n",
    "- Identifying the parameters of the problem\n"
   ]
  },
  {
   "cell_type": "markdown",
   "metadata": {
    "toc-hr-collapsed": false
   },
   "source": [
    "## How can we simplify the problem?\n",
    "\n",
    "We can make the assumption that the jeans do not move on the cable, i.e. the whole system is in static equilibrium.\n",
    "\n",
    "In that case, it is like the cable is attached to fixed points on both sides, we can ignore the pulley.\n",
    "\n",
    "Let's make a sketch.\n",
    "\n",
    "<img src=\"./assets/figs/jeans-sketch.png\" alt=\"sketch\" style=\"width:400px;\"/>\n",
    "<p style=\"font-style:italic;\">Figure 1: Simplified suspended jeans situation</p>\n",
    "\n",
    "In addition, we can also suppose that the jeans are positioned exactly mid-way between the poles.\n",
    "\n",
    "Therefore we are in a situation which is identical to the one seen in the mini-lecture: it's like **the jeans are suspended with two identical cables on both sides**.\n",
    "\n",
    "The only difference is that the cables are attached to poles instead of the ceiling but this doesn't change anything in terms of the forces applied to the jeans, which are:\n",
    "\n",
    "- The **weight** $\\vec{F}$ ;\n",
    "- The two **tensions** $\\vec{T}$ on both sides, which are identical in norm if we assume that the jeans are suspended right in the middle of the cable.  \n",
    "   These two tensions add up to a vertical **resulting tension** $\\vec{T}_r$\n",
    "\n",
    "If we draw a line that represents the horizon, we see that the cable makes an **angle $\\alpha$ with the horizon**.\n",
    "\n",
    "Let's add the forces and the angle to our sketch.\n",
    "\n",
    "<img src=\"./assets/figs/jeans-sketch-forces.png\" alt=\"sketch\" style=\"width:400px;\"/>\n",
    "<p style=\"font-style:italic;\">Figure 2: Angle and forces in the suspended jeans situation</p>\n",
    "\n",
    "Now from there, how do we get to the **counterweight**?\n",
    "\n",
    "Given that the tension is the force that will maintain the jeans suspended on the cable, we can predict that **the higher the tension in the cable, the heavier the counterweight needed** to keep the cable taught.\n",
    "\n",
    "Therefore our next step should be to compute the tension in the cable.\n"
   ]
  },
  {
   "cell_type": "markdown",
   "metadata": {
    "tags": [],
    "toc-hr-collapsed": false
   },
   "source": [
    "## Computing the tension in the cable\n",
    "\n",
    "In static equilibrium, the resulting tension $\\vec{T}_r$ compensates exactly for the weight $\\vec{F}$ (by Newton's law), which we write $ \\lvert\\vec{T}\\_r\\rvert = \\lvert\\vec{F}\\rvert$.\n",
    "\n",
    "The resulting tension $\\vec{T}_r$ is also the vectorial sum of the two tension forces on both sides of the jeans, $\\vec{T}_r = 2.\\vec{T}$.  \n",
    "When projecting the two tensions $\\vec{T}$ on the vertical axis we get that $\\lvert\\vec{T}_r\\rvert = 2.\\lvert\\vec{T}\\rvert.sin(\\alpha)$.\n",
    "\n",
    "By combining the two previous equations we get that $\\lvert\\vec{F}\\rvert = 2.\\lvert\\vec{T}\\rvert.sin(\\alpha)$.  \n",
    "And since $\\lvert\\vec{F}\\rvert = m.g$ we get that $m.g = 2.\\lvert\\vec{T}\\rvert.sin(\\alpha)$.\n",
    "\n",
    "We therefore arrive at the same equation as in the mini-lecture, which gives the **tension in the cable** $\\lvert\\vec{T}\\rvert$ as a function of the mass $m$ of the suspended object, the angle $\\alpha$ that the cable makes with the horizon and the gravity of earth $g$:\n",
    "\n",
    "$\n",
    "\\begin{align}\n",
    "\\lvert\\vec{T}\\rvert = \\frac{\\frac{1}{2}.m.g}{sin(\\alpha)}\n",
    "\\end{align}\n",
    "$\n",
    "\n",
    "Now, while the parameters $m$ and $g$ are fixed and known, the angle $\\alpha$ is not.\n",
    "\n",
    "According to the above equation, we can see that the tension in the cable will depend on how much we want the cable taught.\n",
    "\n",
    "Let's explore the influence of the angle $\\alpha$ on $\\lvert\\vec{T}\\rvert$.\n"
   ]
  },
  {
   "cell_type": "markdown",
   "metadata": {
    "tags": [],
    "toc-hr-collapsed": false
   },
   "source": [
    "## How does the angle $\\alpha$ influence the tension force?\n",
    "\n",
    "In the following section, we are going to visualise concretely how the angle $\\alpha$ influences the tension force.\n"
   ]
  },
  {
   "cell_type": "code",
   "execution_count": 3,
   "metadata": {},
   "outputs": [
    {
     "data": {
      "application/javascript": "(function(root) {\n  function now() {\n    return new Date();\n  }\n\n  const force = true;\n\n  if (typeof root._bokeh_onload_callbacks === \"undefined\" || force === true) {\n    root._bokeh_onload_callbacks = [];\n    root._bokeh_is_loading = undefined;\n  }\n\nconst JS_MIME_TYPE = 'application/javascript';\n  const HTML_MIME_TYPE = 'text/html';\n  const EXEC_MIME_TYPE = 'application/vnd.bokehjs_exec.v0+json';\n  const CLASS_NAME = 'output_bokeh rendered_html';\n\n  /**\n   * Render data to the DOM node\n   */\n  function render(props, node) {\n    const script = document.createElement(\"script\");\n    node.appendChild(script);\n  }\n\n  /**\n   * Handle when an output is cleared or removed\n   */\n  function handleClearOutput(event, handle) {\n    const cell = handle.cell;\n\n    const id = cell.output_area._bokeh_element_id;\n    const server_id = cell.output_area._bokeh_server_id;\n    // Clean up Bokeh references\n    if (id != null && id in Bokeh.index) {\n      Bokeh.index[id].model.document.clear();\n      delete Bokeh.index[id];\n    }\n\n    if (server_id !== undefined) {\n      // Clean up Bokeh references\n      const cmd_clean = \"from bokeh.io.state import curstate; print(curstate().uuid_to_server['\" + server_id + \"'].get_sessions()[0].document.roots[0]._id)\";\n      cell.notebook.kernel.execute(cmd_clean, {\n        iopub: {\n          output: function(msg) {\n            const id = msg.content.text.trim();\n            if (id in Bokeh.index) {\n              Bokeh.index[id].model.document.clear();\n              delete Bokeh.index[id];\n            }\n          }\n        }\n      });\n      // Destroy server and session\n      const cmd_destroy = \"import bokeh.io.notebook as ion; ion.destroy_server('\" + server_id + \"')\";\n      cell.notebook.kernel.execute(cmd_destroy);\n    }\n  }\n\n  /**\n   * Handle when a new output is added\n   */\n  function handleAddOutput(event, handle) {\n    const output_area = handle.output_area;\n    const output = handle.output;\n\n    // limit handleAddOutput to display_data with EXEC_MIME_TYPE content only\n    if ((output.output_type != \"display_data\") || (!Object.prototype.hasOwnProperty.call(output.data, EXEC_MIME_TYPE))) {\n      return\n    }\n\n    const toinsert = output_area.element.find(\".\" + CLASS_NAME.split(' ')[0]);\n\n    if (output.metadata[EXEC_MIME_TYPE][\"id\"] !== undefined) {\n      toinsert[toinsert.length - 1].firstChild.textContent = output.data[JS_MIME_TYPE];\n      // store reference to embed id on output_area\n      output_area._bokeh_element_id = output.metadata[EXEC_MIME_TYPE][\"id\"];\n    }\n    if (output.metadata[EXEC_MIME_TYPE][\"server_id\"] !== undefined) {\n      const bk_div = document.createElement(\"div\");\n      bk_div.innerHTML = output.data[HTML_MIME_TYPE];\n      const script_attrs = bk_div.children[0].attributes;\n      for (let i = 0; i < script_attrs.length; i++) {\n        toinsert[toinsert.length - 1].firstChild.setAttribute(script_attrs[i].name, script_attrs[i].value);\n        toinsert[toinsert.length - 1].firstChild.textContent = bk_div.children[0].textContent\n      }\n      // store reference to server id on output_area\n      output_area._bokeh_server_id = output.metadata[EXEC_MIME_TYPE][\"server_id\"];\n    }\n  }\n\n  function register_renderer(events, OutputArea) {\n\n    function append_mime(data, metadata, element) {\n      // create a DOM node to render to\n      const toinsert = this.create_output_subarea(\n        metadata,\n        CLASS_NAME,\n        EXEC_MIME_TYPE\n      );\n      this.keyboard_manager.register_events(toinsert);\n      // Render to node\n      const props = {data: data, metadata: metadata[EXEC_MIME_TYPE]};\n      render(props, toinsert[toinsert.length - 1]);\n      element.append(toinsert);\n      return toinsert\n    }\n\n    /* Handle when an output is cleared or removed */\n    events.on('clear_output.CodeCell', handleClearOutput);\n    events.on('delete.Cell', handleClearOutput);\n\n    /* Handle when a new output is added */\n    events.on('output_added.OutputArea', handleAddOutput);\n\n    /**\n     * Register the mime type and append_mime function with output_area\n     */\n    OutputArea.prototype.register_mime_type(EXEC_MIME_TYPE, append_mime, {\n      /* Is output safe? */\n      safe: true,\n      /* Index of renderer in `output_area.display_order` */\n      index: 0\n    });\n  }\n\n  // register the mime type if in Jupyter Notebook environment and previously unregistered\n  if (root.Jupyter !== undefined) {\n    const events = require('base/js/events');\n    const OutputArea = require('notebook/js/outputarea').OutputArea;\n\n    if (OutputArea.prototype.mime_types().indexOf(EXEC_MIME_TYPE) == -1) {\n      register_renderer(events, OutputArea);\n    }\n  }\n  if (typeof (root._bokeh_timeout) === \"undefined\" || force === true) {\n    root._bokeh_timeout = Date.now() + 5000;\n    root._bokeh_failed_load = false;\n  }\n\n  const NB_LOAD_WARNING = {'data': {'text/html':\n     \"<div style='background-color: #fdd'>\\n\"+\n     \"<p>\\n\"+\n     \"BokehJS does not appear to have successfully loaded. If loading BokehJS from CDN, this \\n\"+\n     \"may be due to a slow or bad network connection. Possible fixes:\\n\"+\n     \"</p>\\n\"+\n     \"<ul>\\n\"+\n     \"<li>re-rerun `output_notebook()` to attempt to load from CDN again, or</li>\\n\"+\n     \"<li>use INLINE resources instead, as so:</li>\\n\"+\n     \"</ul>\\n\"+\n     \"<code>\\n\"+\n     \"from bokeh.resources import INLINE\\n\"+\n     \"output_notebook(resources=INLINE)\\n\"+\n     \"</code>\\n\"+\n     \"</div>\"}};\n\n  function display_loaded() {\n    const el = document.getElementById(null);\n    if (el != null) {\n      el.textContent = \"BokehJS is loading...\";\n    }\n    if (root.Bokeh !== undefined) {\n      if (el != null) {\n        el.textContent = \"BokehJS \" + root.Bokeh.version + \" successfully loaded.\";\n      }\n    } else if (Date.now() < root._bokeh_timeout) {\n      setTimeout(display_loaded, 100)\n    }\n  }\n\n  function run_callbacks() {\n    try {\n      root._bokeh_onload_callbacks.forEach(function(callback) {\n        if (callback != null)\n          callback();\n      });\n    } finally {\n      delete root._bokeh_onload_callbacks\n    }\n    console.debug(\"Bokeh: all callbacks have finished\");\n  }\n\n  function load_libs(css_urls, js_urls, callback) {\n    if (css_urls == null) css_urls = [];\n    if (js_urls == null) js_urls = [];\n\n    root._bokeh_onload_callbacks.push(callback);\n    if (root._bokeh_is_loading > 0) {\n      console.debug(\"Bokeh: BokehJS is being loaded, scheduling callback at\", now());\n      return null;\n    }\n    if (js_urls == null || js_urls.length === 0) {\n      run_callbacks();\n      return null;\n    }\n    console.debug(\"Bokeh: BokehJS not loaded, scheduling load and callback at\", now());\n    root._bokeh_is_loading = css_urls.length + js_urls.length;\n\n    function on_load() {\n      root._bokeh_is_loading--;\n      if (root._bokeh_is_loading === 0) {\n        console.debug(\"Bokeh: all BokehJS libraries/stylesheets loaded\");\n        run_callbacks()\n      }\n    }\n\n    function on_error(url) {\n      console.error(\"failed to load \" + url);\n    }\n\n    for (let i = 0; i < css_urls.length; i++) {\n      const url = css_urls[i];\n      const element = document.createElement(\"link\");\n      element.onload = on_load;\n      element.onerror = on_error.bind(null, url);\n      element.rel = \"stylesheet\";\n      element.type = \"text/css\";\n      element.href = url;\n      console.debug(\"Bokeh: injecting link tag for BokehJS stylesheet: \", url);\n      document.body.appendChild(element);\n    }\n\n    for (let i = 0; i < js_urls.length; i++) {\n      const url = js_urls[i];\n      const element = document.createElement('script');\n      element.onload = on_load;\n      element.onerror = on_error.bind(null, url);\n      element.async = false;\n      element.src = url;\n      console.debug(\"Bokeh: injecting script tag for BokehJS library: \", url);\n      document.head.appendChild(element);\n    }\n  };\n\n  function inject_raw_css(css) {\n    const element = document.createElement(\"style\");\n    element.appendChild(document.createTextNode(css));\n    document.body.appendChild(element);\n  }\n\n  const js_urls = [\"https://cdn.bokeh.org/bokeh/release/bokeh-2.4.3.min.js\", \"https://cdn.bokeh.org/bokeh/release/bokeh-gl-2.4.3.min.js\", \"https://cdn.bokeh.org/bokeh/release/bokeh-widgets-2.4.3.min.js\", \"https://cdn.bokeh.org/bokeh/release/bokeh-tables-2.4.3.min.js\", \"https://cdn.bokeh.org/bokeh/release/bokeh-mathjax-2.4.3.min.js\"];\n  const css_urls = [];\n\n  const inline_js = [    function(Bokeh) {\n      Bokeh.set_log_level(\"info\");\n    },\nfunction(Bokeh) {\n    }\n  ];\n\n  function run_inline_js() {\n    if (root.Bokeh !== undefined || force === true) {\n          for (let i = 0; i < inline_js.length; i++) {\n      inline_js[i].call(root, root.Bokeh);\n    }\n} else if (Date.now() < root._bokeh_timeout) {\n      setTimeout(run_inline_js, 100);\n    } else if (!root._bokeh_failed_load) {\n      console.log(\"Bokeh: BokehJS failed to load within specified timeout.\");\n      root._bokeh_failed_load = true;\n    } else if (force !== true) {\n      const cell = $(document.getElementById(null)).parents('.cell').data().cell;\n      cell.output_area.append_execute_result(NB_LOAD_WARNING)\n    }\n  }\n\n  if (root._bokeh_is_loading === 0) {\n    console.debug(\"Bokeh: BokehJS loaded, going straight to plotting\");\n    run_inline_js();\n  } else {\n    load_libs(css_urls, js_urls, function() {\n      console.debug(\"Bokeh: BokehJS plotting callback run at\", now());\n      run_inline_js();\n    });\n  }\n}(window));",
      "application/vnd.bokehjs_load.v0+json": ""
     },
     "metadata": {},
     "output_type": "display_data"
    },
    {
     "name": "stdout",
     "output_type": "stream",
     "text": [
      "Libraries imported.\n"
     ]
    }
   ],
   "source": [
    "# We need Numpy for some mathematical functions (e.g. sinus)\n",
    "import numpy as np\n",
    "\n",
    "# We will do some plotting with Bokeh\n",
    "from bokeh.plotting import figure\n",
    "\n",
    "# We will use a custom library with visualizations developed for this exercise\n",
    "from assets.lib.suspendedobject import *\n",
    "\n",
    "# And display a message once all libraries are imported\n",
    "print(\"Libraries imported.\")"
   ]
  },
  {
   "cell_type": "markdown",
   "metadata": {},
   "source": [
    "The imported `suspendedobjects` library generates a situation with poles 1.5 meters high, separated by a 5 meter distance, and shows the angle $\\alpha$ as well as the forces on the jeans.\n"
   ]
  },
  {
   "cell_type": "markdown",
   "metadata": {
    "toc-hr-collapsed": false
   },
   "source": [
    "<div style=\"padding:8px 0 8px 15px;border-left:3px solid #B51F1F;background-color:#F3F3F3;color:black;\">\n",
    "    <span style=\"font-weight:bold;text-decoration:underline;\">Activity</span><br/>\n",
    "    \n",
    "Use the slider at the bottom to vary the value of $\\alpha$ and **compare the tension  $\\vec{T}$ in the cable** with $\\alpha$ = $20^\\circ$ and with $\\alpha$ = $5^\\circ$.\n",
    "\n",
    "**What do you observe?**\n",
    "\n",
    "You can check your answer against the solution below the visualisation.\n",
    "\n",
    "</div>\n"
   ]
  },
  {
   "cell_type": "code",
   "execution_count": 4,
   "metadata": {
    "tags": []
   },
   "outputs": [
    {
     "data": {
      "text/html": [
       "\n",
       "  <div class=\"bk-root\" id=\"80cc0064-9eec-4dc6-a95e-b62e2e8fb0ca\" data-root-id=\"1093\"></div>\n"
      ]
     },
     "metadata": {},
     "output_type": "display_data"
    },
    {
     "data": {
      "application/javascript": "(function(root) {\n  function embed_document(root) {\n  const docs_json = {\"fc8c98fb-872a-4027-87a5-9177cecd62e4\":{\"defs\":[],\"roots\":{\"references\":[{\"attributes\":{\"children\":[{\"id\":\"1002\"}]},\"id\":\"1093\",\"type\":\"Row\"},{\"attributes\":{\"line_cap\":\"round\",\"line_width\":8,\"x\":{\"field\":\"x\"},\"y\":{\"field\":\"y\"}},\"id\":\"1043\",\"type\":\"Line\"},{\"attributes\":{\"data\":{\"x\":[5,5],\"y\":[0,1.5]},\"selected\":{\"id\":\"1104\"},\"selection_policy\":{\"id\":\"1103\"}},\"id\":\"1042\",\"type\":\"ColumnDataSource\"},{\"attributes\":{\"line_alpha\":0.2,\"line_cap\":\"round\",\"line_width\":8,\"x\":{\"field\":\"x\"},\"y\":{\"field\":\"y\"}},\"id\":\"1045\",\"type\":\"Line\"},{\"attributes\":{},\"id\":\"1111\",\"type\":\"UnionRenderers\"},{\"attributes\":{\"line_alpha\":0.1,\"line_cap\":\"round\",\"line_width\":8,\"x\":{\"field\":\"x\"},\"y\":{\"field\":\"y\"}},\"id\":\"1044\",\"type\":\"Line\"},{\"attributes\":{\"fill_color\":{\"value\":\"white\"},\"hatch_color\":{\"value\":\"gray\"},\"hatch_pattern\":{\"value\":\"/\"},\"height\":{\"value\":0.1},\"left\":{\"value\":-0.2},\"line_color\":{\"value\":\"white\"},\"right\":{\"value\":5.2},\"y\":{\"value\":-0.05}},\"id\":\"1050\",\"type\":\"HBar\"},{\"attributes\":{},\"id\":\"1103\",\"type\":\"UnionRenderers\"},{\"attributes\":{},\"id\":\"1112\",\"type\":\"Selection\"},{\"attributes\":{\"coordinates\":null,\"group\":null,\"location\":0},\"id\":\"1048\",\"type\":\"Span\"},{\"attributes\":{\"coordinates\":null,\"data_source\":{\"id\":\"1042\"},\"glyph\":{\"id\":\"1043\"},\"group\":null,\"hover_glyph\":null,\"muted_glyph\":{\"id\":\"1045\"},\"nonselection_glyph\":{\"id\":\"1044\"},\"view\":{\"id\":\"1047\"}},\"id\":\"1046\",\"type\":\"GlyphRenderer\"},{\"attributes\":{\"below\":[{\"id\":\"1013\"}],\"center\":[{\"id\":\"1016\"},{\"id\":\"1020\"},{\"id\":\"1035\"},{\"id\":\"1048\"},{\"id\":\"1062\"},{\"id\":\"1077\"},{\"id\":\"1081\"},{\"id\":\"1084\"}],\"height\":400,\"left\":[{\"id\":\"1017\"}],\"outline_line_color\":null,\"renderers\":[{\"id\":\"1040\"},{\"id\":\"1046\"},{\"id\":\"1053\"},{\"id\":\"1060\"},{\"id\":\"1069\"},{\"id\":\"1075\"},{\"id\":\"1091\"}],\"title\":{\"id\":\"1003\"},\"toolbar\":{\"id\":\"1028\"},\"toolbar_location\":null,\"width\":800,\"x_range\":{\"id\":\"1005\"},\"x_scale\":{\"id\":\"1009\"},\"y_range\":{\"id\":\"1007\"},\"y_scale\":{\"id\":\"1011\"}},\"id\":\"1002\",\"subtype\":\"Figure\",\"type\":\"Plot\"},{\"attributes\":{\"coordinates\":null,\"data_source\":{\"id\":\"1049\"},\"glyph\":{\"id\":\"1050\"},\"group\":null,\"hover_glyph\":null,\"muted_glyph\":{\"id\":\"1052\"},\"nonselection_glyph\":{\"id\":\"1051\"},\"view\":{\"id\":\"1054\"}},\"id\":\"1053\",\"type\":\"GlyphRenderer\"},{\"attributes\":{},\"id\":\"1104\",\"type\":\"Selection\"},{\"attributes\":{\"source\":{\"id\":\"1042\"}},\"id\":\"1047\",\"type\":\"CDSView\"},{\"attributes\":{\"source\":{\"id\":\"1049\"}},\"id\":\"1054\",\"type\":\"CDSView\"},{\"attributes\":{\"fill_alpha\":{\"value\":0.2},\"fill_color\":{\"value\":\"white\"},\"hatch_alpha\":{\"value\":0.2},\"hatch_color\":{\"value\":\"gray\"},\"hatch_pattern\":{\"value\":\"/\"},\"height\":{\"value\":0.1},\"left\":{\"value\":-0.2},\"line_alpha\":{\"value\":0.2},\"line_color\":{\"value\":\"white\"},\"right\":{\"value\":5.2},\"y\":{\"value\":-0.05}},\"id\":\"1052\",\"type\":\"HBar\"},{\"attributes\":{\"fill_alpha\":{\"value\":0.1},\"fill_color\":{\"value\":\"white\"},\"hatch_alpha\":{\"value\":0.1},\"hatch_color\":{\"value\":\"gray\"},\"hatch_pattern\":{\"value\":\"/\"},\"height\":{\"value\":0.1},\"left\":{\"value\":-0.2},\"line_alpha\":{\"value\":0.1},\"line_color\":{\"value\":\"white\"},\"right\":{\"value\":5.2},\"y\":{\"value\":-0.05}},\"id\":\"1051\",\"type\":\"HBar\"},{\"attributes\":{\"data\":{},\"selected\":{\"id\":\"1106\"},\"selection_policy\":{\"id\":\"1105\"}},\"id\":\"1049\",\"type\":\"ColumnDataSource\"},{\"attributes\":{\"coordinates\":null,\"group\":null,\"line_color\":\"gray\",\"line_dash\":[6],\"location\":1.5},\"id\":\"1035\",\"type\":\"Span\"},{\"attributes\":{\"fill_alpha\":{\"value\":0.1},\"fill_color\":{\"value\":\"black\"},\"hatch_alpha\":{\"value\":0.1},\"line_alpha\":{\"value\":0.1},\"line_width\":{\"value\":2},\"size\":{\"value\":8},\"x\":{\"field\":\"x\"},\"y\":{\"field\":\"y\"}},\"id\":\"1058\",\"type\":\"Circle\"},{\"attributes\":{},\"id\":\"1099\",\"type\":\"BasicTickFormatter\"},{\"attributes\":{\"fill_color\":{\"value\":\"black\"},\"line_width\":{\"value\":2},\"size\":{\"value\":8},\"x\":{\"field\":\"x\"},\"y\":{\"field\":\"y\"}},\"id\":\"1057\",\"type\":\"Circle\"},{\"attributes\":{\"data\":{\"alpha_degrees\":[20],\"alpha_text\":[\"\\u237a = 20.00 \\u00b0\"],\"height_text\":[\"h = 0.59 m\"],\"x\":[2.5],\"y\":[0.5900744143344941]},\"selected\":{\"id\":\"1108\"},\"selection_policy\":{\"id\":\"1107\"}},\"id\":\"1055\",\"type\":\"ColumnDataSource\"},{\"attributes\":{},\"id\":\"1011\",\"type\":\"LinearScale\"},{\"attributes\":{\"fill_alpha\":{\"value\":0.2},\"fill_color\":{\"value\":\"black\"},\"hatch_alpha\":{\"value\":0.2},\"line_alpha\":{\"value\":0.2},\"line_width\":{\"value\":2},\"size\":{\"value\":8},\"x\":{\"field\":\"x\"},\"y\":{\"field\":\"y\"}},\"id\":\"1059\",\"type\":\"Circle\"},{\"attributes\":{},\"id\":\"1113\",\"type\":\"UnionRenderers\"},{\"attributes\":{\"coordinates\":null,\"group\":null,\"level\":\"glyph\",\"source\":{\"id\":\"1055\"},\"text\":{\"field\":\"height_text\"},\"x\":{\"field\":\"x\"},\"x_offset\":{\"value\":8},\"y\":{\"field\":\"y\"},\"y_offset\":{\"value\":-20}},\"id\":\"1062\",\"type\":\"LabelSet\"},{\"attributes\":{\"end\":5.2,\"start\":-0.2},\"id\":\"1005\",\"type\":\"Range1d\"},{\"attributes\":{\"source\":{\"id\":\"1055\"}},\"id\":\"1061\",\"type\":\"CDSView\"},{\"attributes\":{},\"id\":\"1105\",\"type\":\"UnionRenderers\"},{\"attributes\":{\"coordinates\":null,\"data_source\":{\"id\":\"1055\"},\"glyph\":{\"id\":\"1057\"},\"group\":null,\"hover_glyph\":null,\"muted_glyph\":{\"id\":\"1059\"},\"nonselection_glyph\":{\"id\":\"1058\"},\"view\":{\"id\":\"1061\"}},\"id\":\"1060\",\"type\":\"GlyphRenderer\"},{\"attributes\":{},\"id\":\"1114\",\"type\":\"Selection\"},{\"attributes\":{\"end\":1.55,\"start\":-0.05},\"id\":\"1007\",\"type\":\"Range1d\"},{\"attributes\":{\"axis_label\":\"Height (m)\",\"coordinates\":null,\"formatter\":{\"id\":\"1096\"},\"group\":null,\"major_label_policy\":{\"id\":\"1097\"},\"ticker\":{\"id\":\"1018\"}},\"id\":\"1017\",\"type\":\"LinearAxis\"},{\"attributes\":{},\"id\":\"1106\",\"type\":\"Selection\"},{\"attributes\":{},\"id\":\"1014\",\"type\":\"BasicTicker\"},{\"attributes\":{\"line_width\":{\"value\":2},\"size\":{\"value\":12}},\"id\":\"1080\",\"type\":\"OpenHead\"},{\"attributes\":{\"align\":\"center\",\"coordinates\":null,\"group\":null,\"text\":\"Suspended object (3 kg)\"},\"id\":\"1003\",\"type\":\"Title\"},{\"attributes\":{},\"id\":\"1026\",\"type\":\"HelpTool\"},{\"attributes\":{},\"id\":\"1097\",\"type\":\"AllLabels\"},{\"attributes\":{},\"id\":\"1009\",\"type\":\"LinearScale\"},{\"attributes\":{\"source\":{\"id\":\"1071\"}},\"id\":\"1076\",\"type\":\"CDSView\"},{\"attributes\":{\"line_cap\":\"round\",\"line_width\":2,\"x\":{\"field\":\"x\"},\"y\":{\"field\":\"y\"}},\"id\":\"1066\",\"type\":\"Line\"},{\"attributes\":{\"axis_label\":\"Distance (m) \",\"coordinates\":null,\"formatter\":{\"id\":\"1099\"},\"group\":null,\"major_label_policy\":{\"id\":\"1100\"},\"ticker\":{\"id\":\"1014\"}},\"id\":\"1013\",\"type\":\"LinearAxis\"},{\"attributes\":{\"data\":{\"x\":[0,2.5,5],\"y\":[1.5,0.5900744143344941,1.5]},\"selected\":{\"id\":\"1110\"},\"selection_policy\":{\"id\":\"1109\"}},\"id\":\"1064\",\"type\":\"ColumnDataSource\"},{\"attributes\":{\"axis\":{\"id\":\"1013\"},\"coordinates\":null,\"group\":null,\"ticker\":null,\"visible\":false},\"id\":\"1016\",\"type\":\"Grid\"},{\"attributes\":{},\"id\":\"1100\",\"type\":\"AllLabels\"},{\"attributes\":{\"line_alpha\":0.1,\"line_cap\":\"round\",\"line_width\":2,\"x\":{\"field\":\"x\"},\"y\":{\"field\":\"y\"}},\"id\":\"1067\",\"type\":\"Line\"},{\"attributes\":{\"axis\":{\"id\":\"1017\"},\"coordinates\":null,\"dimension\":1,\"group\":null,\"ticker\":null,\"visible\":false},\"id\":\"1020\",\"type\":\"Grid\"},{\"attributes\":{\"coordinates\":null,\"data_source\":{\"id\":\"1064\"},\"glyph\":{\"id\":\"1066\"},\"group\":null,\"hover_glyph\":null,\"muted_glyph\":{\"id\":\"1068\"},\"nonselection_glyph\":{\"id\":\"1067\"},\"view\":{\"id\":\"1070\"}},\"id\":\"1069\",\"type\":\"GlyphRenderer\"},{\"attributes\":{},\"id\":\"1018\",\"type\":\"BasicTicker\"},{\"attributes\":{\"line_alpha\":0.2,\"line_cap\":\"round\",\"line_width\":2,\"x\":{\"field\":\"x\"},\"y\":{\"field\":\"y\"}},\"id\":\"1068\",\"type\":\"Line\"},{\"attributes\":{\"data\":{\"x\":[0.44999999999999996,0.2819077862357725],\"y\":[1.5,1.3973939570022993]},\"selected\":{\"id\":\"1112\"},\"selection_policy\":{\"id\":\"1111\"}},\"id\":\"1071\",\"type\":\"ColumnDataSource\"},{\"attributes\":{\"source\":{\"id\":\"1064\"}},\"id\":\"1070\",\"type\":\"CDSView\"},{\"attributes\":{},\"id\":\"1022\",\"type\":\"WheelZoomTool\"},{\"attributes\":{\"line_color\":\"gray\",\"line_dash\":[2,2],\"x\":{\"field\":\"x\"},\"y\":{\"field\":\"y\"}},\"id\":\"1072\",\"type\":\"Line\"},{\"attributes\":{},\"id\":\"1021\",\"type\":\"PanTool\"},{\"attributes\":{\"overlay\":{\"id\":\"1027\"}},\"id\":\"1023\",\"type\":\"BoxZoomTool\"},{\"attributes\":{\"coordinates\":null,\"data_source\":{\"id\":\"1071\"},\"glyph\":{\"id\":\"1072\"},\"group\":null,\"hover_glyph\":null,\"muted_glyph\":{\"id\":\"1074\"},\"nonselection_glyph\":{\"id\":\"1073\"},\"view\":{\"id\":\"1076\"}},\"id\":\"1075\",\"type\":\"GlyphRenderer\"},{\"attributes\":{},\"id\":\"1024\",\"type\":\"SaveTool\"},{\"attributes\":{\"line_alpha\":0.2,\"line_color\":\"gray\",\"line_dash\":[2,2],\"x\":{\"field\":\"x\"},\"y\":{\"field\":\"y\"}},\"id\":\"1074\",\"type\":\"Line\"},{\"attributes\":{},\"id\":\"1025\",\"type\":\"ResetTool\"},{\"attributes\":{\"coordinates\":null,\"group\":null,\"level\":\"glyph\",\"source\":{\"id\":\"1055\"},\"text\":{\"field\":\"alpha_text\"},\"x\":{\"value\":0},\"x_offset\":{\"value\":50},\"y\":{\"value\":1.5},\"y_offset\":{\"value\":-20}},\"id\":\"1077\",\"type\":\"LabelSet\"},{\"attributes\":{},\"id\":\"1107\",\"type\":\"UnionRenderers\"},{\"attributes\":{\"line_alpha\":0.1,\"line_color\":\"gray\",\"line_dash\":[2,2],\"x\":{\"field\":\"x\"},\"y\":{\"field\":\"y\"}},\"id\":\"1073\",\"type\":\"Line\"},{\"attributes\":{\"bottom_units\":\"screen\",\"coordinates\":null,\"fill_alpha\":0.5,\"fill_color\":\"lightgrey\",\"group\":null,\"left_units\":\"screen\",\"level\":\"overlay\",\"line_alpha\":1.0,\"line_color\":\"black\",\"line_dash\":[4,4],\"line_width\":2,\"right_units\":\"screen\",\"syncable\":false,\"top_units\":\"screen\"},\"id\":\"1027\",\"type\":\"BoxAnnotation\"},{\"attributes\":{},\"id\":\"1108\",\"type\":\"Selection\"},{\"attributes\":{\"coordinates\":null,\"end\":{\"id\":\"1080\"},\"group\":null,\"line_color\":{\"field\":\"color\"},\"line_width\":{\"value\":2},\"source\":{\"id\":\"1079\"},\"start\":null,\"x_end\":{\"field\":\"x_end\"},\"x_start\":{\"field\":\"x_start\"},\"y_end\":{\"field\":\"y_end\"},\"y_start\":{\"field\":\"y_start\"}},\"id\":\"1081\",\"type\":\"Arrow\"},{\"attributes\":{\"line_color\":\"gray\",\"line_dash\":[6],\"x\":{\"field\":\"x\"},\"y\":{\"field\":\"y\"}},\"id\":\"1088\",\"type\":\"Line\"},{\"attributes\":{\"coordinates\":null,\"group\":null,\"level\":\"glyph\",\"source\":{\"id\":\"1079\"},\"text\":{\"field\":\"name\"},\"text_color\":{\"field\":\"color\"},\"x\":{\"field\":\"x_start\"},\"x_offset\":{\"field\":\"x_offset\"},\"y\":{\"field\":\"y_start\"},\"y_offset\":{\"field\":\"y_offset\"}},\"id\":\"1084\",\"type\":\"LabelSet\"},{\"attributes\":{\"line_alpha\":0.1,\"line_cap\":\"round\",\"line_width\":8,\"x\":{\"field\":\"x\"},\"y\":{\"field\":\"y\"}},\"id\":\"1038\",\"type\":\"Line\"},{\"attributes\":{\"data\":{\"x\":[2.904291302272748,2.5,2.095708697727252],\"y\":[0.7372244143344941,0.8843744143344942,0.7372244143344941]},\"selected\":{\"id\":\"1114\"},\"selection_policy\":{\"id\":\"1113\"}},\"id\":\"1086\",\"type\":\"ColumnDataSource\"},{\"attributes\":{},\"id\":\"1096\",\"type\":\"BasicTickFormatter\"},{\"attributes\":{\"data\":{\"x\":[0,0],\"y\":[0,1.5]},\"selected\":{\"id\":\"1102\"},\"selection_policy\":{\"id\":\"1101\"}},\"id\":\"1036\",\"type\":\"ColumnDataSource\"},{\"attributes\":{\"line_alpha\":0.1,\"line_color\":\"gray\",\"line_dash\":[6],\"x\":{\"field\":\"x\"},\"y\":{\"field\":\"y\"}},\"id\":\"1089\",\"type\":\"Line\"},{\"attributes\":{\"coordinates\":null,\"data_source\":{\"id\":\"1086\"},\"glyph\":{\"id\":\"1088\"},\"group\":null,\"hover_glyph\":null,\"muted_glyph\":{\"id\":\"1090\"},\"nonselection_glyph\":{\"id\":\"1089\"},\"view\":{\"id\":\"1092\"}},\"id\":\"1091\",\"type\":\"GlyphRenderer\"},{\"attributes\":{\"coordinates\":null,\"data_source\":{\"id\":\"1036\"},\"glyph\":{\"id\":\"1037\"},\"group\":null,\"hover_glyph\":null,\"muted_glyph\":{\"id\":\"1039\"},\"nonselection_glyph\":{\"id\":\"1038\"},\"view\":{\"id\":\"1041\"}},\"id\":\"1040\",\"type\":\"GlyphRenderer\"},{\"attributes\":{\"source\":{\"id\":\"1036\"}},\"id\":\"1041\",\"type\":\"CDSView\"},{\"attributes\":{\"source\":{\"id\":\"1086\"}},\"id\":\"1092\",\"type\":\"CDSView\"},{\"attributes\":{\"line_alpha\":0.2,\"line_color\":\"gray\",\"line_dash\":[6],\"x\":{\"field\":\"x\"},\"y\":{\"field\":\"y\"}},\"id\":\"1090\",\"type\":\"Line\"},{\"attributes\":{\"tools\":[{\"id\":\"1021\"},{\"id\":\"1022\"},{\"id\":\"1023\"},{\"id\":\"1024\"},{\"id\":\"1025\"},{\"id\":\"1026\"}]},\"id\":\"1028\",\"type\":\"Toolbar\"},{\"attributes\":{\"line_cap\":\"round\",\"line_width\":8,\"x\":{\"field\":\"x\"},\"y\":{\"field\":\"y\"}},\"id\":\"1037\",\"type\":\"Line\"},{\"attributes\":{},\"id\":\"1101\",\"type\":\"UnionRenderers\"},{\"attributes\":{},\"id\":\"1109\",\"type\":\"UnionRenderers\"},{\"attributes\":{\"line_alpha\":0.2,\"line_cap\":\"round\",\"line_width\":8,\"x\":{\"field\":\"x\"},\"y\":{\"field\":\"y\"}},\"id\":\"1039\",\"type\":\"Line\"},{\"attributes\":{},\"id\":\"1116\",\"type\":\"UnionRenderers\"},{\"attributes\":{},\"id\":\"1102\",\"type\":\"Selection\"},{\"attributes\":{},\"id\":\"1110\",\"type\":\"Selection\"},{\"attributes\":{},\"id\":\"1117\",\"type\":\"Selection\"},{\"attributes\":{\"data\":{\"color\":[\"blue\",\"red\",\"gray\",\"red\"],\"dash\":[\"solid\",\"solid\",[2,2],\"solid\"],\"name\":[\"F\",\"T\",\"Tr\",\"T\"],\"x_end\":[2.5,2.904291302272748,2.5,2.095708697727252],\"x_offset\":[8,25,8,-35],\"x_start\":[2.5,2.5,2.5,2.5],\"y_end\":[0.29577441433449414,0.7372244143344941,0.8843744143344942,0.7372244143344941],\"y_offset\":[-45,6,45,6],\"y_start\":[0.5900744143344941,0.5900744143344941,0.5900744143344941,0.5900744143344941]},\"selected\":{\"id\":\"1117\"},\"selection_policy\":{\"id\":\"1116\"}},\"id\":\"1079\",\"type\":\"ColumnDataSource\"}],\"root_ids\":[\"1093\"]},\"title\":\"Bokeh Application\",\"version\":\"2.4.3\"}};\n  const render_items = [{\"docid\":\"fc8c98fb-872a-4027-87a5-9177cecd62e4\",\"notebook_comms_target\":\"1118\",\"root_ids\":[\"1093\"],\"roots\":{\"1093\":\"80cc0064-9eec-4dc6-a95e-b62e2e8fb0ca\"}}];\n  root.Bokeh.embed.embed_items_notebook(docs_json, render_items);\n  }\n  if (root.Bokeh !== undefined) {\n    embed_document(root);\n  } else {\n    let attempts = 0;\n    const timer = setInterval(function(root) {\n      if (root.Bokeh !== undefined) {\n        clearInterval(timer);\n        embed_document(root);\n      } else {\n        attempts++;\n        if (attempts > 100) {\n          clearInterval(timer);\n          console.log(\"Bokeh: ERROR: Unable to run BokehJS code because BokehJS library is missing\");\n        }\n      }\n    }, 10, root)\n  }\n})(window);",
      "application/vnd.bokehjs_exec.v0+json": ""
     },
     "metadata": {
      "application/vnd.bokehjs_exec.v0+json": {
       "id": "1093"
      }
     },
     "output_type": "display_data"
    },
    {
     "data": {
      "application/vnd.jupyter.widget-view+json": {
       "model_id": "d6a986aca0024cffb157fa6147d05719",
       "version_major": 2,
       "version_minor": 0
      },
      "text/plain": [
       "VBox(children=(VBox(children=(HBox(children=(Label(value='Angle α (°):', layout=Layout(margin='0px 5px 0px 0px…"
      ]
     },
     "metadata": {},
     "output_type": "display_data"
    }
   ],
   "source": [
    "# Build a concrete situation where poles measure 1.5 meters and are distant from 5 meters\n",
    "lab = SuspendedObjectLab(m_object=3, height=1.5, distance=5)\n",
    "\n",
    "# Launch the interactive visualization\n",
    "lab.launch()"
   ]
  },
  {
   "cell_type": "markdown",
   "metadata": {},
   "source": [
    "<i>Write your answer below if you want to deploy your Notebook on <b>Violà</b>.</i>👇\n"
   ]
  },
  {
   "cell_type": "markdown",
   "metadata": {},
   "source": [
    "<div>\n",
    "    <b>Your Answer</b>:\n",
    "    </br>\n",
    "    <span contenteditable=\"true\" style=\"display: inline-block;\n",
    "             border: solid 1px;\n",
    "             min-width: 500px; \n",
    "             max-width: 100wv\">\n",
    "    </span>\n",
    "</div>\n"
   ]
  },
  {
   "cell_type": "markdown",
   "metadata": {},
   "source": [
    "<i>Write your answer below if you want to deploy your Notebook on <b>Jupyter</b>.</i>👇\n"
   ]
  },
  {
   "cell_type": "code",
   "execution_count": 5,
   "metadata": {},
   "outputs": [],
   "source": [
    "# Your answer here"
   ]
  },
  {
   "cell_type": "markdown",
   "metadata": {
    "jupyter": {
     "source_hidden": true
    },
    "tags": []
   },
   "source": [
    "<details>\n",
    "<summary><span style=\"font-weight:bold;text-decoration:underline\">Solution</span><br/></summary>\n",
    "<div style=\"padding:8px 0 8px 15px;border-left:3px solid black;background-color:#F3F3F3;color:black\">\n",
    "\n",
    "We can observe that, while the weight and the resulting vertical tension don't change, the tension $\\vec{T}$ (red arrows) is much bigger when $\\alpha$ = $5^\\circ$ than when $\\alpha$ = $20^\\circ$.\n",
    "\n",
    "The smaller the angle, the higher the tension in the cable.\n",
    "\n",
    "</div>\n",
    "</details>\n"
   ]
  },
  {
   "cell_type": "markdown",
   "metadata": {},
   "source": [
    "---\n"
   ]
  },
  {
   "cell_type": "markdown",
   "metadata": {},
   "source": [
    "# 2. Computing the tension in the cable with Python\n",
    "\n",
    "To get a more precise view of what is happening, we will now compute the value of the tension in the cable using the equation we obtained:\n",
    "\n",
    "$\n",
    "\\begin{align}\n",
    "\\lvert\\vec{T}\\rvert = \\frac{\\frac{1}{2}.m.g}{sin(\\alpha)}\n",
    "\\end{align}\n",
    "$\n",
    "\n",
    "In the following we are going to use Python to **compute the tension in the cable** for **different values of the angle $\\alpha$**.\n"
   ]
  },
  {
   "cell_type": "markdown",
   "metadata": {
    "tags": []
   },
   "source": [
    "## Defining the constants of our physics problem\n",
    "\n",
    "In the above equation we have two constants:\n",
    "\n",
    "- $g$ the gravity of earth, which is 9.81 $m/s^{-2}$\n",
    "- $m$ the mass of the suspended object, which is 3 kg in the case of the jeans\n"
   ]
  },
  {
   "cell_type": "code",
   "execution_count": 6,
   "metadata": {},
   "outputs": [
    {
     "name": "stdout",
     "output_type": "stream",
     "text": [
      "gravity: 9.81 , jeans mass: 3\n"
     ]
    }
   ],
   "source": [
    "# Let's define the value of gravity\n",
    "g = 9.81\n",
    "\n",
    "# And the mass of the jeans\n",
    "m = 3\n",
    "\n",
    "# Display the value of the constants to check they are well defined\n",
    "print(\"gravity:\", g, \", jeans mass:\", m)"
   ]
  },
  {
   "cell_type": "markdown",
   "metadata": {},
   "source": [
    "<img src=\"./assets/figs/epfl-innovation1.png\" alt=\"lightbulb\" style=\"width:50px;float:left;margin-right:10px\"/>\n",
    "Why bother defining these constants instead of using numerical values directly in our computations? Giving names to numerical values is actually a good programming practice: in the case you need to change one of these values at some point, you can do it in one place only, instead of replacing the values everywhere in your code.\n"
   ]
  },
  {
   "cell_type": "markdown",
   "metadata": {},
   "source": [
    "## Creating a function to compute the tension in the cable\n",
    "\n",
    "Let's define a Python function that represents the equation of the tension.  \n",
    "Its input parameters are:\n",
    "\n",
    "- `g`: the gravity of earth\n",
    "- `m`: the mass of the jeans\n",
    "- `alpha`:the angle that the cable makes with the horizon\n",
    "\n",
    "It returns the value of the mass of the counterweight as computed with the equation $\n",
    "\\begin{align}\n",
    "\\frac{\\frac{1}{2}.m.g}{sin(\\alpha)}\n",
    "\\end{align}\n",
    "$\n"
   ]
  },
  {
   "cell_type": "markdown",
   "metadata": {},
   "source": [
    "<div style=\"padding:8px 0 8px 15px;border-left:3px solid #B51F1F;background-color:#F3F3F3;color:black;\">\n",
    "    <span style=\"font-weight:bold;text-decoration:underline;\">Activity</span>\n",
    "    In the code cell below, write a function named <code>tension_norm</code> by implementing the equation above.  \n",
    "      Here is some syntax you will need:\n",
    "    <ul>\n",
    "      <li> variables: you can use `g`, `m` and `alpha`\n",
    "      <li> multiplication: `*`\n",
    "      <li> division: `/`\n",
    "      <li>sinus function $sin(x)$: `np.sin(x)`\n",
    "    </ul>\n",
    "      You can also use parentheses to indicate the order of operations\n",
    "</div>\n",
    "\n",
    "<i><b>NB</b>: If you are deploying your Notebook on <b>Violà</b>, you need to embed a Python interpreter that can run the desired functions for this activity.</i>"
   ]
  },
  {
   "cell_type": "code",
   "execution_count": 7,
   "metadata": {},
   "outputs": [
    {
     "name": "stdout",
     "output_type": "stream",
     "text": [
      "Function defined.\n"
     ]
    }
   ],
   "source": [
    "# Then let's define the function\n",
    "def tension_norm(g, m, alpha):\n",
    "    tension = 1  # REPLACE \"1\" BY YOUR EQUATION HERE\n",
    "    return tension\n",
    "\n",
    "\n",
    "# And display a message once it is defined\n",
    "print(\"Function defined.\")"
   ]
  },
  {
   "cell_type": "markdown",
   "metadata": {
    "jupyter": {
     "source_hidden": true
    },
    "tags": []
   },
   "source": [
    "<details>\n",
    "<summary><span style=\"font-weight:bold;text-decoration:underline;\">Solution</span><br/></summary>\n",
    "<div style=\"padding:8px 0 8px 15px;border-left:3px solid black;background-color:#F3F3F3;color:black;\">\n",
    "    \n",
    "Your function should look like the following:\n",
    "\n",
    "<code>\n",
    "def tension_norm(g, m, alpha):\n",
    "\n",
    "tension = (1/2 _ m _ g) / np.sin(alpha)\n",
    "return tension\n",
    "\n",
    "</code>\n",
    "\n",
    "</div>\n",
    "</details>\n"
   ]
  },
  {
   "cell_type": "markdown",
   "metadata": {},
   "source": [
    "<img src=\"./assets/figs/epfl-innovation1.png\" alt=\"lightbulb\" style=\"width:50px;float:left;margin-right:10px\"/>\n",
    "Why bother defining a function instead of doing the computation directly? This is actually a good programming practice: by defining a function that computes the norm of the tension like this, we can reuse it several times in the notebook instead of copy-pasting the same computation several times. <strong>Functions make code reusable.</strong> In addition, if we make a mistake or need to do a modification, we can do it in one place only, instead of having to find all the places where we have written the same piece of code.\n"
   ]
  },
  {
   "cell_type": "markdown",
   "metadata": {
    "tags": []
   },
   "source": [
    "## Computing the tension in the cable using our function\n",
    "\n",
    "Now let's use this Python function to compute the norm of the tension in the cable for a given angle of $\\alpha$.\n",
    "\n",
    "Because our function takes the sinus of our angle $\\alpha$, we first need to convert it from degrees into radians.\n",
    "This is where the library we have imported gets useful as it provides us with a function `degrees_to_radians` which we can use to convert our angle.\n",
    "\n",
    "The code cell below defines a value for $\\alpha$ in degrees, converts it to radians, then computes the tension on the cable using our previously defined function with `g` = 9.81 $m/s^{-2}$ and `m` = 3 kg and prints the result.\n",
    "\n",
    "```python\n",
    "# First choose an angle alpha in degrees\n",
    "alpha = 2\n",
    "\n",
    "# Then convert it to radians\n",
    "alpha_radians = degrees_to_radians(alpha)\n",
    "\n",
    "# Then compute the tension using our equation with the values we have defined for g, m and alpha (in radians)\n",
    "T = tension_norm(g, m, alpha_radians)\n",
    "\n",
    "# And print the result\n",
    "print(\"Norm of the tension in the cable: T =\", T, \"N\")\n",
    "```\n"
   ]
  },
  {
   "cell_type": "code",
   "execution_count": 8,
   "metadata": {},
   "outputs": [
    {
     "name": "stdout",
     "output_type": "stream",
     "text": [
      "Norm of the tension in the cable: T = 1 N\n"
     ]
    }
   ],
   "source": [
    "# First choose an angle alpha in degrees\n",
    "alpha = 2\n",
    "\n",
    "# Then convert it to radians\n",
    "alpha_radians = degrees_to_radians(alpha)\n",
    "\n",
    "# Then compute the tension using our equation with the values we have defined for g, m and alpha (in radians)\n",
    "T = tension_norm(g, m, alpha_radians)\n",
    "\n",
    "# And print the result\n",
    "print(\"Norm of the tension in the cable: T =\", T, \"N\")"
   ]
  },
  {
   "cell_type": "markdown",
   "metadata": {},
   "source": [
    "<div style=\"padding:8px 0 8px 15px;border-left:3px solid #B51F1F;background-color:#F3F3F3;color:black\">\n",
    "    <span style=\"font-weight:bold;text-decoration:underline;\">Activity</span><br/>\n",
    "\n",
    "**The execution of the code cell** allows you to see the value of the tension force $\\lvert\\vec{T}\\rvert$ corresponding to an angle $\\alpha$ of $2^\\circ$, expressed in Newtons.\n",
    "\n",
    "**Compare the value you obtain** to the force exerted by earth gravity on the jeans, which weight 3 kg: $\\lvert\\vec{F}\\rvert = $ 29 $N$\n",
    "\n",
    "**Is the tension in the cable bigger or smaller than the weight of the jeans on the cable? Why?**\n",
    "\n",
    "**Note down** your answer in the cell below, then you can check the solution.\n",
    "\n",
    "<i><b>NB</b>:\n",
    "\n",
    "<ul>\n",
    "    <li> You can also change the value of $\\alpha$ in the code cell above and then execute the cell again to see the corresponding value for the tension force.\n",
    "    <li> If you are deploying your Notebook on <b>Violà</b>, you need to embed a Python interpreter that can run the desired functions for this activity.\n",
    "</ul>\n",
    "</i>\n",
    "</div>\n"
   ]
  },
  {
   "cell_type": "markdown",
   "metadata": {},
   "source": [
    "<i>Write your note below if you want to deploy your Notebook on <b>Violà</b>.</i>👇\n"
   ]
  },
  {
   "cell_type": "markdown",
   "metadata": {},
   "source": [
    "<div>\n",
    "    <b>Your Note</b>:\n",
    "    <br/>\n",
    "    <span contenteditable=\"true\" style=\"display: inline-block;\n",
    "             border: solid 1px;\n",
    "             min-width: 500px; \n",
    "             max-width: 100wv\">\n",
    "    </span>\n",
    "</div>\n"
   ]
  },
  {
   "cell_type": "markdown",
   "metadata": {},
   "source": [
    "<i>Write your note below if you want to deploy your Notebook on <b>Jupyter</b>.</i>👇\n"
   ]
  },
  {
   "cell_type": "code",
   "execution_count": 9,
   "metadata": {},
   "outputs": [],
   "source": [
    "# Your note here"
   ]
  },
  {
   "cell_type": "markdown",
   "metadata": {
    "jupyter": {
     "source_hidden": true
    },
    "tags": []
   },
   "source": [
    "<details> <summary><span style=\"font-weight:bold;text-decoration:underline;\">Solution</span><br/></summary>\n",
    "<div style=\"padding:8px 0 8px 15px;border-left:3px solid black;background-color:#F3F3F3;color:black;\">\n",
    "\n",
    "For an angle $\\alpha$ of $2^\\circ$, you can observe that the tension $\\lvert\\vec{T}\\rvert$ is more than 10 times bigger than the weight of the jeans (T = 421.63931833852183 N).\n",
    "\n",
    "This is because such small angles make the cable more horizontal whereas the weight of the jeans is purely vertical, therefore a higher tension will be necessary to create the vertical resulting force that compensates for the weight of the jeans.\n",
    "\n",
    "<img src=\"./assets/figs/jeans-sketch-forces-removebg.png\" alt=\"sketch\" style=\"width:400px;\"/>\n",
    "\n",
    "Mathematically speaking, remember that the tension is defined by the following equation:  \n",
    "$\n",
    "\\begin{align}\n",
    "\\lvert\\vec{T}\\rvert = \\frac{\\frac{1}{2}.m.g}{sin(\\alpha)}\n",
    "\\end{align}\n",
    "$\n",
    "\n",
    "Because the weight of the jeans is $\\lvert\\vec{F}\\rvert = m.g$, the tension can also be written:  \n",
    "$\n",
    "\\begin{align}\n",
    "\\lvert\\vec{T}\\rvert = \\frac{\\frac{1}{2}}{sin(\\alpha)}.\\lvert\\vec{F}\\rvert\n",
    "\\end{align}\n",
    "$\n",
    "\n",
    "As a consequence:\n",
    "\n",
    "- For angles between $0^\\circ$ and $30^\\circ$, $sin(\\alpha)$ will be between 0 and $\\frac{1}{2}$ and therefore we will have $\\lvert\\vec{T}\\rvert > \\lvert\\vec{F}\\rvert$\n",
    "- For angles between $30^\\circ$ and $90^\\circ$ (although such high values do not really make sense in the real situation), $sin(\\alpha)$ will be between $\\frac{1}{2}$ and 1 and therefore we will have $\\lvert\\vec{T}\\rvert < \\lvert\\vec{F}\\rvert$\n",
    "\n",
    "</div>\n",
    "</details>\n"
   ]
  },
  {
   "cell_type": "markdown",
   "metadata": {},
   "source": [
    "---\n"
   ]
  },
  {
   "cell_type": "markdown",
   "metadata": {},
   "source": [
    "# 3. From the tension to the counterweight\n",
    "\n",
    "Now how can we relate this tension to the counterweight in our original question?\n",
    "\n",
    "A key here is to understand that **the tension is transmitted in the cable to the counterweight**, and that **the pulley only changes the direction of the force**, it does not affect its value.\n",
    "\n",
    "Therefore the weight $\\vec{F_{cw}}$ of the counterweight will have to compensate exactly the tension $\\vec{T}$ in the cable, as indicated on the sketch below.\n",
    "\n",
    "<img src=\"./assets/figs/counterweight-sketch-forces.png\" alt=\"sketch\" style=\"height:200px;\"/>\n",
    "<p style=\"font-style:italic;\">Figure 3: Forces on the counterweight</p>\n",
    "\n",
    "We can write this as an equation:  \n",
    "$\n",
    "\\begin{align}\n",
    "\\lvert\\vec{T}\\rvert = \\lvert\\vec{F_{cw}}\\rvert\n",
    "\\end{align}\n",
    "$\n",
    "\n",
    "Since the weight of the counterweight is $\\lvert\\vec{F_{cw}}\\rvert =  m_{cw}.g$, we can therefore write:  \n",
    "$\n",
    "\\begin{align}\n",
    "\\lvert\\vec{T}\\rvert = m_{cw}.g\n",
    "\\end{align}\n",
    "$\n",
    "\n",
    "From there we can find the mass of the counterweight $m_{cw}$:  \n",
    "$\n",
    "\\begin{align}\n",
    "m_{cw} = \\frac{\\lvert\\vec{T}\\rvert}{g}\n",
    "\\end{align}\n",
    "$\n"
   ]
  },
  {
   "cell_type": "markdown",
   "metadata": {},
   "source": [
    "## Using Python for the computation\n",
    "\n",
    "Again we can use python to make this simple computation, using the values `T` and `g` computed earlier.\n"
   ]
  },
  {
   "cell_type": "markdown",
   "metadata": {
    "tags": []
   },
   "source": [
    "<div style=\"padding:8px 0 8px 15px;border-left:3px solid #B51F1F;background-color:#F3F3F3;color:black;\">\n",
    "    <span style=\"font-weight:bold;text-decoration:underline;\">Activity</span><br/>\n",
    "\n",
    "**Complete the code cell below** to compute the mass of the counterweight according to the equation above.\n",
    "\n",
    "You can use the variables `T` and `g` that we have defined earlier.\n",
    "\n",
    "Then **execute the code cell** to see which counterweight would allow the jeans to be suspended with the angle $\\alpha$ chosen earlier.\n",
    "\n",
    "<i><b>NB</b>: If you are deploying your Notebook on <b>Violà</b>, you need to embed a Python interpreter that can run the desired functions for this activity.</i>\n",
    "\n",
    "</div>\n"
   ]
  },
  {
   "cell_type": "code",
   "execution_count": 10,
   "metadata": {
    "tags": []
   },
   "outputs": [
    {
     "name": "stdout",
     "output_type": "stream",
     "text": [
      "Mass of the counterweight: m_cw = 1 kg\n"
     ]
    }
   ],
   "source": [
    "# Let's compute the mass of the counterweight to compensate for the tension in the cable\n",
    "m_cw = 1  # REPLACE \"1\" WITH YOUR EQUATION HERE\n",
    "\n",
    "# And print the result\n",
    "print(\"Mass of the counterweight: m_cw =\", m_cw, \"kg\")"
   ]
  },
  {
   "cell_type": "markdown",
   "metadata": {
    "jupyter": {
     "source_hidden": true
    },
    "tags": []
   },
   "source": [
    "<details>\n",
    "<summary><span style=\"font-weight:bold;text-decoration:underline;\">Solution</span><br/></summary>\n",
    "<div style=\"padding:8px 0 8px 15px;border-left:3px solid black;background-color:#F3F3F3;color:black;\">\n",
    "    \n",
    "Your code should look like the following:\n",
    "\n",
    "<code>m_cw = T / g</code>\n",
    "\n",
    "Of course, if you are at ease with Python you can write this as a function, which could also call the `tension_norm` function defined earlier instead of using `T`, which would be a better programming design...\n",
    "\n",
    "For an angle of $\\alpha$ = $2^\\circ$, you should find a mass `m_cw` = 42.98056252176573 kg.  \n",
    "Note: If you changed the value of $\\alpha$ in the previous cell, then you will find a different mass for the counterweight.\n",
    "\n",
    "</div>\n",
    "</details>\n"
   ]
  },
  {
   "cell_type": "markdown",
   "metadata": {},
   "source": [
    "## Back to the original question\n",
    "\n",
    "Let's come back to our original question: \"which counterweight do you think would allow to suspend the jeans (3kg) on the cable in the position illustrated below?\"\n",
    "\n",
    "**How does the result you obtained just above compare to your guess at the beginning of this notebook?**\n",
    "\n",
    "<img src=\"./assets/figs/jeans-clicker-question.png\" alt=\"suspended jeans\" style=\"width:400px;\"/>\n",
    "\n",
    "<div style=\"padding:8px 0 8px 15px;border-left:3px solid #B51F1F;background-color:#F3F3F3;color:black\">\n",
    "    <span style=\"font-weight:bold;text-decoration:underline;\">Activity</span><br/>\n",
    "\n",
    "This is an opportunity to **look back at your intuition**: Was it correct or not? Why?\n",
    "\n",
    "Note down your thoughts in the cell below.\n",
    "\n",
    "</div>\n"
   ]
  },
  {
   "cell_type": "markdown",
   "metadata": {},
   "source": [
    "<i>Write your note below if you want to deploy your Notebook on <b>Violà</b>.</i>👇\n"
   ]
  },
  {
   "cell_type": "markdown",
   "metadata": {},
   "source": [
    "<div>\n",
    "    <b>Your Note</b>:\n",
    "    <br/>\n",
    "    <span contenteditable=\"true\" style=\"display: inline-block;\n",
    "             border: solid 1px;\n",
    "             min-width: 500px; \n",
    "             max-width: 100wv\">\n",
    "    </span>\n",
    "</div>\n"
   ]
  },
  {
   "cell_type": "markdown",
   "metadata": {},
   "source": [
    "<i>Write your note below if you want to deploy your Notebook on <b>Jupyter</b>.</i>👇\n"
   ]
  },
  {
   "cell_type": "code",
   "execution_count": 11,
   "metadata": {},
   "outputs": [],
   "source": [
    "# Your note here"
   ]
  },
  {
   "cell_type": "markdown",
   "metadata": {},
   "source": [
    "---\n"
   ]
  },
  {
   "cell_type": "markdown",
   "metadata": {},
   "source": [
    "# 4. What have you learned so far?\n",
    "\n",
    "You have now spent some time doing a number of activities.  \n",
    "However, research shows that it is very hard to learn from **doing** things, and that we actually learn from **reflecting** on what we have done.  \n",
    "This is why the last activities in this notebook are designed to help you identify what you have learned from doing all of this and where it could apply.\n",
    "\n",
    "<div style=\"padding:8px 0 8px 15px;border-left:3px solid #B51F1F;background-color:#F3F3F3;color:black;\">\n",
    "    <span style=\"font-weight:bold;text-decoration:underline;\">Activity</span><br/>\n",
    "\n",
    "Write down **2 things you learned** from this notebook - for instance about the tension force (or about how to design a notebook 😉).\n",
    "\n",
    "</div>\n"
   ]
  },
  {
   "cell_type": "markdown",
   "metadata": {},
   "source": [
    "<i>Write your note below if you want to deploy your Notebook on <b>Violà</b>.</i>👇\n"
   ]
  },
  {
   "cell_type": "markdown",
   "metadata": {},
   "source": [
    "<div>\n",
    "    <b>Your Note</b>:\n",
    "    <br/>\n",
    "    <span contenteditable=\"true\" style=\"display: inline-block;\n",
    "             border: solid 1px;\n",
    "             min-width: 500px; \n",
    "             max-width: 100wv\">\n",
    "    </span>\n",
    "</div>\n"
   ]
  },
  {
   "cell_type": "markdown",
   "metadata": {},
   "source": [
    "<i>Write your note below if you want to deploy your Notebook on <b>Jupyter</b>.</i>👇\n"
   ]
  },
  {
   "cell_type": "code",
   "execution_count": 12,
   "metadata": {},
   "outputs": [],
   "source": [
    "# Your note here"
   ]
  },
  {
   "cell_type": "markdown",
   "metadata": {},
   "source": [
    "<div style=\"padding:8px 0 8px 15px;border-left:3px solid #B51F1F;background-color:#F3F3F3;color:black;\">\n",
    "    <span style=\"font-weight:bold;text-decoration:underline;\">Activity</span><br/>\n",
    "\n",
    "Can you identify **other real-life situations** in which cables are used to suspend objects or in which cables are taut between poles?\n",
    "\n",
    "Please enter your answer in the **anonymous chat** below!\n",
    "\n",
    "You can also vote for the anwers of others you find interesting.\n",
    "\n",
    "</div>\n"
   ]
  },
  {
   "cell_type": "code",
   "execution_count": 13,
   "metadata": {},
   "outputs": [
    {
     "data": {
      "text/html": [
       "\n",
       "        <iframe\n",
       "            width=\"400\"\n",
       "            height=\"600\"\n",
       "            src=\"https://speakup.epfl.ch/room/join/45263?theme=EPFL&lang=en\"\n",
       "            frameborder=\"0\"\n",
       "            allowfullscreen\n",
       "            \n",
       "        ></iframe>\n",
       "        "
      ],
      "text/plain": [
       "<IPython.lib.display.IFrame at 0x7fd38ac6abb0>"
      ]
     },
     "execution_count": 13,
     "metadata": {},
     "output_type": "execute_result"
    }
   ],
   "source": [
    "from IPython.display import IFrame\n",
    "\n",
    "IFrame(\"https://speakup.epfl.ch/room/join/45263?theme=EPFL&lang=en\", 400, 600)"
   ]
  },
  {
   "cell_type": "markdown",
   "metadata": {},
   "source": [
    "<div style=\"padding:8px 0 8px 15px;border-left:3px solid #0000cc;background-color:#F3F3F3;color:black;\">\n",
    "    <span style=\"font-weight:bold;text-decoration:underline;\">What do you think about this notebook?</span><br/>\n",
    "\n",
    "Please share your feedback with me using the completely anonymous form below.\n",
    "\n",
    "Thank you!\n",
    "\n",
    "</div>\n"
   ]
  },
  {
   "cell_type": "code",
   "execution_count": 14,
   "metadata": {},
   "outputs": [
    {
     "data": {
      "text/html": [
       "\n",
       "        <iframe\n",
       "            width=\"600\"\n",
       "            height=\"900\"\n",
       "            src=\"https://www.surveymonkey.com/r/NOTOSURVEY?notebook_set=CS411notebookexamples&notebook_id=LearningPhysics\"\n",
       "            frameborder=\"0\"\n",
       "            allowfullscreen\n",
       "            \n",
       "        ></iframe>\n",
       "        "
      ],
      "text/plain": [
       "<IPython.lib.display.IFrame at 0x7fd38ac6a730>"
      ]
     },
     "execution_count": 14,
     "metadata": {},
     "output_type": "execute_result"
    }
   ],
   "source": [
    "from IPython.display import IFrame\n",
    "\n",
    "IFrame(\n",
    "    \"https://www.surveymonkey.com/r/NOTOSURVEY?notebook_set=CS411notebookexamples&notebook_id=LearningPhysics\",\n",
    "    600,\n",
    "    900,\n",
    ")"
   ]
  },
  {
   "cell_type": "markdown",
   "metadata": {},
   "source": [
    "---\n"
   ]
  },
  {
   "cell_type": "markdown",
   "metadata": {},
   "source": [
    "# Additional exercises (optional)\n"
   ]
  },
  {
   "cell_type": "markdown",
   "metadata": {},
   "source": [
    "## Looking at how the tension in the cable evolves with the angle $\\alpha$\n",
    "\n",
    "Now we want to look at **how the tension evolves** when the angle $\\alpha$ changes.\n",
    "\n",
    "Thanks to our previously defined Python function, we are going to compute the tension in the cable for 100 different values of $\\alpha$, from $30^\\circ$ to $0^\\circ$, and plot the result on a graph.\n",
    "\n",
    "<div style=\"padding:8px 0 8px 15px;border-left:3px solid #B51F1F;background-color:#F3F3F3;color:black;\">\n",
    "    <span style=\"font-weight:bold;text-decoration:underline;\">Activity</span><br/>\n",
    "\n",
    "See the resulting graph below.\n",
    "\n",
    "</div>\n"
   ]
  },
  {
   "cell_type": "markdown",
   "metadata": {},
   "source": [
    "```python\n",
    "# Let's define the boundaries of the graph\n",
    "a_start = 30  # start the angle at 30°\n",
    "a_stop = 0  # stop at O° (excluded)\n",
    "\n",
    "# Now we generate 100 possible values for the angle alpha between a_start and a_stop (excluded)\n",
    "a_deg = np.linspace(start=a_start, stop=a_stop, num=100, endpoint=False)\n",
    "print(\"The 100 different values for the angle alpha:\\n\", a_deg, \"\\n\")\n",
    "\n",
    "# Since our previously defined function works with angles expressed in radians, we first convert our list of angles from degrees to radians\n",
    "a_rad = degrees_to_radians(a_deg)\n",
    "\n",
    "# Then we compute the value of the tension for all the 100 possible angles alpha using our previously defined function\n",
    "t = tension_norm(g, m, a_rad)\n",
    "print(\"The corresponding values for the tension in the cable:\\n\", t)\n",
    "\n",
    "# Finally we generate the plot and customize its appearance\n",
    "fig = figure(\n",
    "    title=\"Tension in the cable\",\n",
    "    x_axis_label=\"Angle ⍺ (°)\",\n",
    "    y_axis_label=\"Tension T (N)\",\n",
    "    x_range=(a_deg[0], 0),\n",
    "    width=500,\n",
    "    height=400,\n",
    "    toolbar_location=None,\n",
    ")\n",
    "fig.line(a_deg, t, color=\"red\", line_width=2)\n",
    "show(fig)\n",
    "```\n"
   ]
  },
  {
   "cell_type": "code",
   "execution_count": 15,
   "metadata": {},
   "outputs": [
    {
     "name": "stdout",
     "output_type": "stream",
     "text": [
      "The 100 different values for the angle alpha:\n",
      " [30.  29.7 29.4 29.1 28.8 28.5 28.2 27.9 27.6 27.3 27.  26.7 26.4 26.1\n",
      " 25.8 25.5 25.2 24.9 24.6 24.3 24.  23.7 23.4 23.1 22.8 22.5 22.2 21.9\n",
      " 21.6 21.3 21.  20.7 20.4 20.1 19.8 19.5 19.2 18.9 18.6 18.3 18.  17.7\n",
      " 17.4 17.1 16.8 16.5 16.2 15.9 15.6 15.3 15.  14.7 14.4 14.1 13.8 13.5\n",
      " 13.2 12.9 12.6 12.3 12.  11.7 11.4 11.1 10.8 10.5 10.2  9.9  9.6  9.3\n",
      "  9.   8.7  8.4  8.1  7.8  7.5  7.2  6.9  6.6  6.3  6.   5.7  5.4  5.1\n",
      "  4.8  4.5  4.2  3.9  3.6  3.3  3.   2.7  2.4  2.1  1.8  1.5  1.2  0.9\n",
      "  0.6  0.3] \n",
      "\n",
      "The corresponding values for the tension in the cable:\n",
      " 1\n"
     ]
    },
    {
     "data": {
      "text/html": [
       "\n",
       "  <div class=\"bk-root\" id=\"88e21c8c-f507-4b2e-b9a7-ffc752fd0b9e\" data-root-id=\"1239\"></div>\n"
      ]
     },
     "metadata": {},
     "output_type": "display_data"
    },
    {
     "data": {
      "application/javascript": "(function(root) {\n  function embed_document(root) {\n  const docs_json = {\"88fb781e-5fb9-4065-9ca6-486a6cb0ed37\":{\"defs\":[],\"roots\":{\"references\":[{\"attributes\":{\"below\":[{\"id\":\"1250\"}],\"center\":[{\"id\":\"1253\"},{\"id\":\"1257\"}],\"height\":400,\"left\":[{\"id\":\"1254\"}],\"renderers\":[{\"id\":\"1276\"}],\"title\":{\"id\":\"1240\"},\"toolbar\":{\"id\":\"1265\"},\"toolbar_location\":null,\"width\":500,\"x_range\":{\"id\":\"1242\"},\"x_scale\":{\"id\":\"1246\"},\"y_range\":{\"id\":\"1244\"},\"y_scale\":{\"id\":\"1248\"}},\"id\":\"1239\",\"subtype\":\"Figure\",\"type\":\"Plot\"},{\"attributes\":{},\"id\":\"1251\",\"type\":\"BasicTicker\"},{\"attributes\":{\"line_alpha\":0.1,\"line_color\":\"red\",\"line_width\":2,\"x\":{\"field\":\"x\"},\"y\":{\"value\":1}},\"id\":\"1274\",\"type\":\"Line\"},{\"attributes\":{},\"id\":\"1246\",\"type\":\"LinearScale\"},{\"attributes\":{},\"id\":\"1307\",\"type\":\"BasicTickFormatter\"},{\"attributes\":{},\"id\":\"1262\",\"type\":\"ResetTool\"},{\"attributes\":{\"axis\":{\"id\":\"1250\"},\"coordinates\":null,\"group\":null,\"ticker\":null},\"id\":\"1253\",\"type\":\"Grid\"},{\"attributes\":{\"coordinates\":null,\"data_source\":{\"id\":\"1272\"},\"glyph\":{\"id\":\"1273\"},\"group\":null,\"hover_glyph\":null,\"muted_glyph\":{\"id\":\"1275\"},\"nonselection_glyph\":{\"id\":\"1274\"},\"view\":{\"id\":\"1277\"}},\"id\":\"1276\",\"type\":\"GlyphRenderer\"},{\"attributes\":{\"axis_label\":\"Tension T (N)\",\"coordinates\":null,\"formatter\":{\"id\":\"1304\"},\"group\":null,\"major_label_policy\":{\"id\":\"1305\"},\"ticker\":{\"id\":\"1255\"}},\"id\":\"1254\",\"type\":\"LinearAxis\"},{\"attributes\":{},\"id\":\"1308\",\"type\":\"AllLabels\"},{\"attributes\":{},\"id\":\"1255\",\"type\":\"BasicTicker\"},{\"attributes\":{\"source\":{\"id\":\"1272\"}},\"id\":\"1277\",\"type\":\"CDSView\"},{\"attributes\":{\"line_alpha\":0.2,\"line_color\":\"red\",\"line_width\":2,\"x\":{\"field\":\"x\"},\"y\":{\"value\":1}},\"id\":\"1275\",\"type\":\"Line\"},{\"attributes\":{\"bottom_units\":\"screen\",\"coordinates\":null,\"fill_alpha\":0.5,\"fill_color\":\"lightgrey\",\"group\":null,\"left_units\":\"screen\",\"level\":\"overlay\",\"line_alpha\":1.0,\"line_color\":\"black\",\"line_dash\":[4,4],\"line_width\":2,\"right_units\":\"screen\",\"syncable\":false,\"top_units\":\"screen\"},\"id\":\"1264\",\"type\":\"BoxAnnotation\"},{\"attributes\":{},\"id\":\"1263\",\"type\":\"HelpTool\"},{\"attributes\":{\"overlay\":{\"id\":\"1264\"}},\"id\":\"1260\",\"type\":\"BoxZoomTool\"},{\"attributes\":{\"tools\":[{\"id\":\"1258\"},{\"id\":\"1259\"},{\"id\":\"1260\"},{\"id\":\"1261\"},{\"id\":\"1262\"},{\"id\":\"1263\"}]},\"id\":\"1265\",\"type\":\"Toolbar\"},{\"attributes\":{},\"id\":\"1309\",\"type\":\"UnionRenderers\"},{\"attributes\":{},\"id\":\"1305\",\"type\":\"AllLabels\"},{\"attributes\":{},\"id\":\"1258\",\"type\":\"PanTool\"},{\"attributes\":{},\"id\":\"1261\",\"type\":\"SaveTool\"},{\"attributes\":{},\"id\":\"1310\",\"type\":\"Selection\"},{\"attributes\":{\"line_color\":\"red\",\"line_width\":2,\"x\":{\"field\":\"x\"},\"y\":{\"value\":1}},\"id\":\"1273\",\"type\":\"Line\"},{\"attributes\":{},\"id\":\"1244\",\"type\":\"DataRange1d\"},{\"attributes\":{\"end\":0,\"start\":30.0},\"id\":\"1242\",\"type\":\"Range1d\"},{\"attributes\":{},\"id\":\"1248\",\"type\":\"LinearScale\"},{\"attributes\":{\"data\":{\"x\":{\"__ndarray__\":\"AAAAAAAAPkAzMzMzM7M9QGZmZmZmZj1AmpmZmZkZPUDNzMzMzMw8QAAAAAAAgDxAMzMzMzMzPEBmZmZmZuY7QJqZmZmZmTtAzczMzMxMO0AAAAAAAAA7QDMzMzMzszpAZmZmZmZmOkCamZmZmRk6QM3MzMzMzDlAAAAAAACAOUAzMzMzMzM5QGZmZmZm5jhAmpmZmZmZOEDNzMzMzEw4QAAAAAAAADhAMzMzMzOzN0BmZmZmZmY3QJqZmZmZGTdAzczMzMzMNkAAAAAAAIA2QDMzMzMzMzZAZmZmZmbmNUCamZmZmZk1QM3MzMzMTDVAAAAAAAAANUA0MzMzM7M0QGZmZmZmZjRAmpmZmZkZNEDNzMzMzMwzQAAAAAAAgDNANDMzMzMzM0BmZmZmZuYyQJqZmZmZmTJAzczMzMxMMkAAAAAAAAAyQDQzMzMzszFAZmZmZmZmMUCamZmZmRkxQM3MzMzMzDBAAAAAAACAMEA0MzMzMzMwQM3MzMzMzC9ANDMzMzMzL0CamZmZmZkuQAAAAAAAAC5AZ2ZmZmZmLUDNzMzMzMwsQDQzMzMzMyxAmpmZmZmZK0AAAAAAAAArQGZmZmZmZipAzszMzMzMKUA0MzMzMzMpQJqZmZmZmShAAAAAAAAAKEBmZmZmZmYnQM7MzMzMzCZANDMzMzMzJkCamZmZmZklQAAAAAAAACVAZmZmZmZmJEDOzMzMzMwjQDQzMzMzMyNAmpmZmZmZIkAAAAAAAAAiQGZmZmZmZiFAzszMzMzMIEA0MzMzMzMgQDQzMzMzMx9AAAAAAAAAHkDMzMzMzMwcQJyZmZmZmRtAaGZmZmZmGkA0MzMzMzMZQAAAAAAAABhAzMzMzMzMFkCcmZmZmZkVQGhmZmZmZhRANDMzMzMzE0AAAAAAAAASQMzMzMzMzBBAODMzMzMzD0DQzMzMzMwMQGhmZmZmZgpAAAAAAAAACECYmZmZmZkFQDgzMzMzMwNA0MzMzMzMAEDQzMzMzMz8PwAAAAAAAPg/QDMzMzMz8z/gzMzMzMzsP0AzMzMzM+M/QDMzMzMz0z8=\",\"dtype\":\"float64\",\"order\":\"little\",\"shape\":[100]}},\"selected\":{\"id\":\"1310\"},\"selection_policy\":{\"id\":\"1309\"}},\"id\":\"1272\",\"type\":\"ColumnDataSource\"},{\"attributes\":{\"axis_label\":\"Angle \\u237a (\\u00b0)\",\"coordinates\":null,\"formatter\":{\"id\":\"1307\"},\"group\":null,\"major_label_policy\":{\"id\":\"1308\"},\"ticker\":{\"id\":\"1251\"}},\"id\":\"1250\",\"type\":\"LinearAxis\"},{\"attributes\":{},\"id\":\"1259\",\"type\":\"WheelZoomTool\"},{\"attributes\":{},\"id\":\"1304\",\"type\":\"BasicTickFormatter\"},{\"attributes\":{\"axis\":{\"id\":\"1254\"},\"coordinates\":null,\"dimension\":1,\"group\":null,\"ticker\":null},\"id\":\"1257\",\"type\":\"Grid\"},{\"attributes\":{\"coordinates\":null,\"group\":null,\"text\":\"Tension in the cable\"},\"id\":\"1240\",\"type\":\"Title\"}],\"root_ids\":[\"1239\"]},\"title\":\"Bokeh Application\",\"version\":\"2.4.3\"}};\n  const render_items = [{\"docid\":\"88fb781e-5fb9-4065-9ca6-486a6cb0ed37\",\"root_ids\":[\"1239\"],\"roots\":{\"1239\":\"88e21c8c-f507-4b2e-b9a7-ffc752fd0b9e\"}}];\n  root.Bokeh.embed.embed_items_notebook(docs_json, render_items);\n  }\n  if (root.Bokeh !== undefined) {\n    embed_document(root);\n  } else {\n    let attempts = 0;\n    const timer = setInterval(function(root) {\n      if (root.Bokeh !== undefined) {\n        clearInterval(timer);\n        embed_document(root);\n      } else {\n        attempts++;\n        if (attempts > 100) {\n          clearInterval(timer);\n          console.log(\"Bokeh: ERROR: Unable to run BokehJS code because BokehJS library is missing\");\n        }\n      }\n    }, 10, root)\n  }\n})(window);",
      "application/vnd.bokehjs_exec.v0+json": ""
     },
     "metadata": {
      "application/vnd.bokehjs_exec.v0+json": {
       "id": "1239"
      }
     },
     "output_type": "display_data"
    }
   ],
   "source": [
    "# Let's define the boundaries of the graph\n",
    "a_start = 30  # start the angle at 30°\n",
    "a_stop = 0  # stop at O° (excluded)\n",
    "\n",
    "# Now we generate 100 possible values for the angle alpha between a_start and a_stop (excluded)\n",
    "a_deg = np.linspace(start=a_start, stop=a_stop, num=100, endpoint=False)\n",
    "print(\"The 100 different values for the angle alpha:\\n\", a_deg, \"\\n\")\n",
    "\n",
    "# Since our previously defined function works with angles expressed in radians, we first convert our list of angles from degrees to radians\n",
    "a_rad = degrees_to_radians(a_deg)\n",
    "\n",
    "# Then we compute the value of the tension for all the 100 possible angles alpha using our previously defined function\n",
    "t = tension_norm(g, m, a_rad)\n",
    "print(\"The corresponding values for the tension in the cable:\\n\", t)\n",
    "\n",
    "# Finally we generate the plot and customize its appearance\n",
    "fig = figure(\n",
    "    title=\"Tension in the cable\",\n",
    "    x_axis_label=\"Angle ⍺ (°)\",\n",
    "    y_axis_label=\"Tension T (N)\",\n",
    "    x_range=(a_deg[0], 0),\n",
    "    width=500,\n",
    "    height=400,\n",
    "    toolbar_location=None,\n",
    ")\n",
    "fig.line(a_deg, t, color=\"red\", line_width=2)\n",
    "show(fig)"
   ]
  },
  {
   "cell_type": "markdown",
   "metadata": {},
   "source": [
    "<div style=\"padding:8px 0 8px 15px;border-left:3px solid #B51F1F;background-color:#F3F3F3;color:black;\">\n",
    "    <span style=\"font-weight:bold;text-decoration:underline;\">Activity</span><br/>\n",
    "\n",
    "What happens to the tension when the angle $\\alpha$ gets closer to $0^\\circ$?\n",
    "\n",
    "Could we ever have $\\alpha$ = $0^\\circ$, i.e. **could we ever pull the cable taught completely horizontally**?\n",
    "\n",
    "Note down your answer in the cell below, then you can check the solution.\n",
    "\n",
    "</div>\n"
   ]
  },
  {
   "cell_type": "markdown",
   "metadata": {},
   "source": [
    "<i>Write your note below if you want to deploy your Notebook on <b>Violà</b>.</i>👇\n"
   ]
  },
  {
   "cell_type": "markdown",
   "metadata": {},
   "source": [
    "<div>\n",
    "    <b>Your Note</b>:\n",
    "    <br/>\n",
    "    <span contenteditable=\"true\" style=\"display: inline-block;\n",
    "             border: solid 1px;\n",
    "             min-width: 500px; \n",
    "             max-width: 100wv\">\n",
    "    </span>\n",
    "</div>\n"
   ]
  },
  {
   "cell_type": "markdown",
   "metadata": {},
   "source": [
    "<i>Write your note below if you want to deploy your Notebook on <b>Jupyter</b>.</i>👇\n"
   ]
  },
  {
   "cell_type": "code",
   "execution_count": 16,
   "metadata": {},
   "outputs": [],
   "source": [
    "# Your note here"
   ]
  },
  {
   "cell_type": "markdown",
   "metadata": {
    "jupyter": {
     "source_hidden": true
    },
    "tags": []
   },
   "source": [
    "<details>\n",
    "<summary><span style=\"font-weight:bold;text-decoration:underline;\">Solution</span><br/></summary>\n",
    "<div style=\"padding:8px 0 8px 15px;border-left:3px solid black;background-color:#F3F3F3;color:black;\">\n",
    "    \n",
    "The curve on the graph indicates that the tension in the cable is getting infinitely big as the angle $\\alpha$ gets closer to $0^\\circ$.  \n",
    "This means that we will never be able to pull the cable taught horizontally as this would mean an infinite tension (the cable would break before that).\n",
    "\n",
    "From a mathematical point of view, remember that the tension is defined by the following equation:  \n",
    "$\n",
    "\\begin{align}\n",
    "\\lvert\\vec{T}\\rvert = \\frac{\\frac{1}{2}.m.g}{sin(\\alpha)}\n",
    "\\end{align}\n",
    "$\n",
    "\n",
    "When $\\alpha$ tends toward 0, $sin(\\alpha)$ also tends toward 0, therefore the limit of the expression defining the tension in the cable is:\n",
    "\n",
    "$\n",
    "\\begin{align}\n",
    "\\lim_{\\alpha\\to0}\\; \\lvert\\vec{T}\\rvert = \\lim_{\\alpha\\to0}\\;\\frac{\\frac{1}{2}.m.g}{sin(\\alpha)} = +\\infty\n",
    "\\end{align}\n",
    "$\n",
    "\n",
    "You can find out the detailed answer to this question below, in the [solution section of the notebook](#Solution:-Is-it-possible-to-pull-the-cable-taut-completely-horizontally?).\n",
    "\n",
    "</div>\n",
    "</details>\n"
   ]
  },
  {
   "cell_type": "markdown",
   "metadata": {},
   "source": [
    "## How does our Python function behave with $\\alpha$ = 0?\n",
    "\n",
    "What happens with our piece of Python code when we say that the cable it taut completely horizontal, i.e. the angle $\\alpha$ = $0^\\circ$, which is actually impossible in real life?\n",
    "\n",
    "<div style=\"padding:8px 0 8px 15px;border-left:3px solid #B51F1F;background-color:#F3F3F3;color:black;\">\n",
    "    <span style=\"font-weight:bold;text-decoration:underline;\">Activity</span><br/>\n",
    "\n",
    "In the cell below, all your `tension_norm` function is called with a value of $0$ for `alpha`.\n",
    "\n",
    "What happens?\n",
    "\n",
    "</div>\n"
   ]
  },
  {
   "cell_type": "code",
   "execution_count": 17,
   "metadata": {},
   "outputs": [
    {
     "name": "stdout",
     "output_type": "stream",
     "text": [
      "Norm of the tension in the cable: T = 1 N\n"
     ]
    }
   ],
   "source": [
    "# Compute the tension with alpha = 0°\n",
    "T = tension_norm(m, g, 0)  # REPLACE 1 WITH THE CALL TO YOUR FUNCTION tension_norm HERE\n",
    "\n",
    "# And print the result\n",
    "print(\"Norm of the tension in the cable: T =\", T, \"N\")"
   ]
  },
  {
   "cell_type": "markdown",
   "metadata": {},
   "source": [
    "<i>Write your answer below if you want to deploy your Notebook on <b>Violà</b>.</i>👇\n"
   ]
  },
  {
   "cell_type": "markdown",
   "metadata": {},
   "source": [
    "<div>\n",
    "    <b>Your Answer</b>:\n",
    "    <br/>\n",
    "    <span contenteditable=\"true\" style=\"display: inline-block;\n",
    "             border: solid 1px;\n",
    "             min-width: 500px; \n",
    "             max-width: 100wv\">\n",
    "    </span>\n",
    "</div>\n"
   ]
  },
  {
   "cell_type": "markdown",
   "metadata": {},
   "source": [
    "<i>Write your answer below if you want to deploy your Notebook on <b>Jupyter</b>.</i>👇\n"
   ]
  },
  {
   "cell_type": "code",
   "execution_count": 18,
   "metadata": {},
   "outputs": [],
   "source": [
    "# Your answer here"
   ]
  },
  {
   "cell_type": "markdown",
   "metadata": {
    "jupyter": {
     "source_hidden": true
    },
    "tags": []
   },
   "source": [
    "<details>\n",
    "<summary><span style=\"font-weight:bold;text-decoration:underline;\">Solution</span><br/></summary>\n",
    "<div style=\"padding:8px 0 8px 15px;border-left:3px solid black;background-color:#F3F3F3;color:black;\">\n",
    "    \n",
    "Here is how to call your function:\n",
    "<code>T = tension_norm(g, m, 0)</code>\n",
    "\n",
    "When you execute this code, two things happen:\n",
    "\n",
    "- You get a warning message which says `RuntimeWarning: divide by zero encountered in double_scalars`\n",
    "- The function nonetheless returns a value which is `inf`\n",
    "\n",
    "When the angle $\\alpha$ = 0 then $sin(\\alpha)$ = 0 and therefore we divide `(.5 * jeans_mass * gravity)` by 0 so on one hand, mathematically speaking, we know that the result should be $+\\infty$. On the other hand, we also know that usually division by 0 is not well supported by computers.\n",
    "\n",
    "Actually, division by 0 is not supported in standard Python.  \n",
    "You can create a code cell (click on the `+` icon in the toolbar above) and try to execute the following computation to see what happens: `(0.5 * 3 * 9.81)/0`\n",
    "\n",
    "Now, because in the calculation we use the function `np.sin()` from the Numpy library, our data is automatically converted to Numpy types, which support division by zero and return the \"real\" result which is $+\\infty$.  \n",
    "By convention, Numpy also generates a warning message but this can be deactivated when not necessary.  \n",
    "If you are curious, you can take a look at [the errors generated by Numpy for floating-point calculations](https://docs.scipy.org/doc/numpy/reference/generated/numpy.seterr.html#numpy.seterr).\n",
    "\n",
    "</div>\n",
    "</details>\n"
   ]
  },
  {
   "cell_type": "markdown",
   "metadata": {},
   "source": [
    "## What are the consequences?\n",
    "\n",
    "It is important to know that high tension in a cable is very dangerous and can lead to serious accidents, especially when the cable is not well adapted for its intended use (i.e. not strong enough) or when the cable is progressively deteriorating with use.\n",
    "\n",
    "<div style=\"padding:8px 0 8px 15px;border-left:3px solid #B51F1F;background-color:#F3F3F3;color:black;\">\n",
    "    <span style=\"font-weight:bold;text-decoration:underline;\">Activity</span><br/>\n",
    "\n",
    "Watch the first minute of the video below (sound is not necessary).\n",
    "\n",
    "What happens at time 0:53? Why?\n",
    "\n",
    "</div>\n"
   ]
  },
  {
   "cell_type": "code",
   "execution_count": 19,
   "metadata": {},
   "outputs": [
    {
     "data": {
      "image/jpeg": "[encoded data removed]",
      "text/html": [
       "\n",
       "        <iframe\n",
       "            width=\"600\"\n",
       "            height=\"337\"\n",
       "            src=\"https://www.youtube.com/embed/KIbd5zBek5s?start=45&mute=1\"\n",
       "            frameborder=\"0\"\n",
       "            allowfullscreen\n",
       "            \n",
       "        ></iframe>\n",
       "        "
      ],
      "text/plain": [
       "<IPython.lib.display.YouTubeVideo at 0x7fd338034550>"
      ]
     },
     "execution_count": 19,
     "metadata": {},
     "output_type": "execute_result"
    }
   ],
   "source": [
    "from IPython.display import YouTubeVideo\n",
    "\n",
    "YouTubeVideo(\"KIbd5zBek5s\", 600, 337, start=45, mute=1)"
   ]
  },
  {
   "cell_type": "markdown",
   "metadata": {},
   "source": [
    "<i>Write your answer below if you want to deploy your Notebook on <b>Violà</b>.</i>👇\n"
   ]
  },
  {
   "cell_type": "markdown",
   "metadata": {},
   "source": [
    "<div>\n",
    "    <b>Your Answer</b>:\n",
    "    <br/>\n",
    "    <span contenteditable=\"true\" style=\"display: inline-block;\n",
    "             border: solid 1px;\n",
    "             min-width: 500px; \n",
    "             max-width: 100wv\">\n",
    "    </span>\n",
    "</div>\n"
   ]
  },
  {
   "cell_type": "markdown",
   "metadata": {},
   "source": [
    "<i>Write your answer below if you want to deploy your Notebook on <b>Jupyter</b>.</i>👇\n"
   ]
  },
  {
   "cell_type": "code",
   "execution_count": 20,
   "metadata": {},
   "outputs": [],
   "source": [
    "# Your answer here"
   ]
  },
  {
   "cell_type": "markdown",
   "metadata": {
    "jupyter": {
     "source_hidden": true
    },
    "tags": []
   },
   "source": [
    "<details>\n",
    "<summary><span style=\"font-weight:bold;text-decoration:underline;\">Solution</span><br/></summary>\n",
    "<div style=\"padding:8px 0 8px 15px;border-left:3px solid black;background-color:#F3F3F3;color:black;\">\n",
    "    \n",
    "At time 0:53, the cable desintegrates completely. This is probably because it has grown weaker and weaker after repeated use until it cannot withstand the high tension anymore.\n",
    "\n",
    "</div>\n",
    "</details>\n"
   ]
  },
  {
   "cell_type": "markdown",
   "metadata": {},
   "source": [
    "## Improving the `tension_norm` function\n",
    "\n",
    "As you have noticed, each time you want to call your `tension_norm` function with an angle expressed in degrees, you have first to convert your angle from degrees to radians.\n",
    "\n",
    "A better design would be to do the conversion of the angle inside the function so that you can pass it angles in degrees directly.\n",
    "\n",
    "<div style=\"padding:8px 0 8px 15px;border-left:3px solid #B51F1F;background-color:#F3F3F3;color:black;\">\n",
    "    <span style=\"font-weight:bold;text-decoration:underline;\">Activity</span><br/>\n",
    "\n",
    "Define a new function `tension_norm_degrees` which converts `alpha` from degrees to radians using the `degrees_to_radians` function, then calls the `tension_norm` function to compute the norm of the tension and returns the result.\n",
    "\n",
    "Then **execute the code cell** so that this function gets defined and then tested with an angle $\\alpha$ of $20^\\circ$.\n",
    "\n",
    "If your function works correctly, the result of the execution should be `Tension norm: T = 43.023781748399834 N`.\n",
    "\n",
    "<i><b>NB</b>: If you are deploying your Notebook on <b>Violà</b>, you need to embed a Python interpreter that can run the desired functions for this activity.</i>\n",
    "\n",
    "</div>\n"
   ]
  },
  {
   "cell_type": "code",
   "execution_count": 21,
   "metadata": {},
   "outputs": [
    {
     "name": "stdout",
     "output_type": "stream",
     "text": [
      "Tension norm: T = None N\n"
     ]
    }
   ],
   "source": [
    "# Define your function\n",
    "def tension_norm_degrees(g, m, alpha):\n",
    "    # WRITE YOUR CODE HERE\n",
    "    return\n",
    "\n",
    "\n",
    "# Let's test it: the execution of these lines should give T = 43.023781748399834 N\n",
    "alpha = 20\n",
    "T = tension_norm_degrees(g, m, alpha)\n",
    "print(\"Tension norm: T =\", T, \"N\")"
   ]
  },
  {
   "cell_type": "markdown",
   "metadata": {
    "jupyter": {
     "source_hidden": true
    },
    "tags": []
   },
   "source": [
    "<details>\n",
    "<summary><span style=\"font-weight:bold;text-decoration:underline;\">Solution</span><br/></summary>\n",
    "<div style=\"padding:8px 0 8px 15px;border-left:3px solid black;background-color:#F3F3F3;color:black;\">\n",
    "    \n",
    "Your function could look like the following:\n",
    "\n",
    "<code>def tension_norm_degrees(g, m, alpha):\n",
    "apha_rad = degrees_to_radians(alpha)\n",
    "tension = tension_norm(g, m, apha_rad)\n",
    "return tension\n",
    "</code>\n",
    "\n",
    "Of course the three lines in this function can be combined into just one:\n",
    "\n",
    "<code>def tension_norm_degrees(g, m, alpha):\n",
    "return tension_norm(g, m, degrees_to_radians(alpha))\n",
    "</code>\n",
    "\n",
    "<br/>Note: Another way to test such a function would be to use [Python assertions](https://zetcode.com/python/assert/).  \n",
    "<br/>However, comparing float values can get tricky. These can be made simpler by the use of more elaborate libraries such as `pytest`, which support [approximations](https://randycoulman.com/blog/2018/06/19/comparing-floats-in-tests/).\n",
    "\n",
    "</div>\n",
    "</details>\n"
   ]
  },
  {
   "cell_type": "markdown",
   "metadata": {},
   "source": [
    "## A function that computes the mass of the counterweight\n",
    "\n",
    "From the exercises above, we have learned that\n",
    "$\n",
    "\\begin{align}\n",
    "\\lvert\\vec{T}\\rvert = \\frac{\\frac{1}{2}.m.g}{sin(\\alpha)}\n",
    "\\end{align}\n",
    "$ and that\n",
    "$\n",
    "\\begin{align}\n",
    "m_{cw} = \\frac{\\lvert\\vec{T}\\rvert}{g}\n",
    "\\end{align}\n",
    "$\n",
    "\n",
    "From there, we can write the equation for the mass of the counterweight as a function of $\\alpha$:\n",
    "\n",
    "$\n",
    "\\begin{align}\n",
    "m_{cw} = \\frac{\\frac{1}{2}.m}{sin(\\alpha)}\n",
    "\\end{align}\n",
    "$\n",
    "\n",
    "<div style=\"padding:8px 0 8px 15px;border-left:3px solid #B51F1F;background-color:#F3F3F3;color:black;\">\n",
    "    <span style=\"font-weight:bold;text-decoration:underline;\">Activity</span><br/>\n",
    "\n",
    "In the code cell below, write a function `counterweight_mass` that takes `m` and `alpha` as an inputs and returns the mass of the counterweight as computed by the equation above.\n",
    "\n",
    "Of course you can reuse code from the previous activities as a model.\n",
    "\n",
    "Then use this function to compute the counterweight necessary so that the cable makes an angle of 1.5$^\\circ$ with the horizon.\n",
    "\n",
    "You should find a counterweight of approximately 57 kg.\n",
    "\n",
    "You can find the complete solution in the [detailed solution section below](#Numerical-application).\n",
    "\n",
    "<i><b>NB</b>: If you are deploying your Notebook on <b>Violà</b>, you need to embed a Python interpreter that can run the desired functions for this activity.</i>\n",
    "\n",
    "</div>\n"
   ]
  },
  {
   "cell_type": "code",
   "execution_count": 22,
   "metadata": {},
   "outputs": [],
   "source": [
    "# Write your code here"
   ]
  },
  {
   "cell_type": "markdown",
   "metadata": {
    "toc-hr-collapsed": true,
    "toc-nb-collapsed": true
   },
   "source": [
    "# Solution: Is it possible to pull the cable taut completely horizontally?\n",
    "\n",
    "In this section we demonstrate the physical and mathematical reasoning to answer this question.\n",
    "\n",
    "### Goal\n",
    "\n",
    "For the cable to be taut completely horizontally means that the angle $\\alpha$ that the cable makes with the horizon is $0^\\circ$.  \n",
    "In other words, the question could be reframed as: which mass $m_{cw}$ should we put as a counterweight to get $\\alpha$ = $0^\\circ$?\n",
    "If we can find a 'reasonable' value for the counterweight then it will mean that it is possible to pull the cable taut completely horizontally.\n",
    "\n",
    "To answer this question, we therefore look for an expression relating the **mass of the counterweight $m_{cw}$** and the **angle $\\alpha$** that the cable makes with the horizon.\n",
    "\n",
    "### Method\n",
    "\n",
    "Given that the system is in static equilibrium, the sum of external forces exerted on the system will be zero, so using Newton's second law should be easy. The force that the counterweight exerts on the system will involve the mass of the counterweight so we should be able to rewrite Newton's second law to get an expression of the form $m_{cw} = ...$.\n",
    "\n",
    "### Hypotheses and simplifications\n",
    "\n",
    "We make the following assumptions and simplifications:\n",
    "\n",
    "- the jeans are considered as positioned exactly mid-way between the poles so the tension is equal on both sides of the cable\n",
    "- we represent the jeans by the point at which they are suspended\n",
    "- the cable is considered as rigid (not bended), with a negligible mass\n",
    "- the pulley is considered as perfect, without mass nor friction\n",
    "- we consider the static equilibrium obtained after changing the weight, once the system is stabilized\n",
    "\n",
    "### Resolution\n",
    "\n",
    "First, let's draw a diagram and represent the different forces involved.\n",
    "<img src=\"./assets/figs/jeans-solution.png\" style=\"width:600px; float:right;\"/>\n",
    "\n",
    "The _forces applied on the jeans_ are:\n",
    "\n",
    "- the weight: $\\vec F_j = m_j \\vec g$\n",
    "- the force exerted by the cable on each side of the jeans: assuming the jeans are suspended at the exact center of the cable, then the tension applied on each of the two sides is equally distributed with two tensions of equal magnitude $T$ on each side but with opposite directions on the $x$ axis, which combine into a vertical resulting tension $\\vec T_r$\n",
    "\n",
    "From Newton's second law in a static equilibrium we can write: $\\sum \\vec F_j = \\vec 0$  \n",
    "With the forces on the jeans we get: $\\vec F_j + \\vec T_r = 0$\n",
    "\n",
    "If we project on $x$ and $y$ axes, we get:  \n",
    "$\\left\\{\\begin{matrix} F*{jx} + T*{rx} = 0 \\\\ F*{jy} + T*{ry} = 0\\end{matrix}\\right. $\n",
    "\n",
    "Since $\\vec T_r$ is the result of two tensions of same magnitude $T$ on both sides of the jeans but of opposite directions on the $x$ axis, we can decompose $T_{rx}$ and $T_{ry}$ into the $x$ and $y$ components of $T$:  \n",
    "$\\left\\{\\begin{matrix} T*{rx} = T*{x} - T*{x} \\\\ T*{ry} = 2.T\\_{y} \\end{matrix}\\right. $\n",
    "\n",
    "Now we can use this in our previous equations, which gives:  \n",
    "$\\left\\{\\begin{matrix} F*{jx} + T*{x} - T*{x} = 0 \\\\ F*{jy} + 2.T\\_{y} = 0\\end{matrix}\\right. $\n",
    "\n",
    "Since the two $T_{x}$ cancel out we cannot know their value yet and so we focus on the second equation:  \n",
    "$\\begin{align} F_{jy} + 2.T_y = 0 \\end{align}$\n",
    "\n",
    "The component of the weight on the y axis is $F_{jy} = - m_j.g$, which gives us:  \n",
    "$\\begin{align} - m_j.g + 2.T_y = 0 \\end{align}$\n",
    "\n",
    "Using the angle $\\alpha$ we can get the tension $T_y$ expressed as a function of T since $sin(\\alpha) = \\frac{T_y}{T}$, therefore $T_y = T.sin(\\alpha)$\n",
    "\n",
    "By replacing $T_y$ by this expression in the above equation we get:  \n",
    "$\\begin{align} - m_j.g + 2.T.sin(\\alpha) = 0 \\end{align}$\n",
    "\n",
    "From there we can get $T$, and this is equation number $(1)$:\n",
    "\n",
    "$\n",
    "\\begin{align}\n",
    "T = \\frac{m_j.g}{2.sin(\\alpha)}\n",
    "\\end{align}\n",
    "$\n",
    "\n",
    "&nbsp;\n",
    "\n",
    "We now want to make the mass of the counterweight appear in this expression.  \n",
    "So we will now look at the forces applied on the _counterweight_.\n",
    "\n",
    "&nbsp;\n",
    "\n",
    "The forces applied on the _counterweight_ are:\n",
    "\n",
    "- the weight: $\\vec F_{cw} = m_{cw} \\vec g$\n",
    "- the force exerted by the cable: a simple pulley simply changes the direction of the tension so the tension applied on the counterweight is therefore of the same magnitude $T$ as before but with a different direction - we will note it $\\vec T$\n",
    "\n",
    "From Newton's second law in a static equilibrium we can write: $\\sum \\vec F_{cw} = \\vec 0$  \n",
    "With the forces involved in our problem : $\\vec F_{cw} + \\vec T = \\vec 0$\n",
    "\n",
    "All forces being vertical, there is no need to project on $x$ so we get: $- F_{cw} +  T = 0$  \n",
    "We replace the weight by its detailed expression: $-m_{cw}.g + T = 0$  \n",
    "Now we can express $T$ as a function of the other parameters, which is equation number $(2)$: $T = m_{cw}.g$\n",
    "\n",
    "&nbsp;\n",
    "\n",
    "Let's now summarize what we have so far with equations $(1)$ and $(2)$:\n",
    "\n",
    "$\n",
    "\\begin{align}\n",
    "\\left\\{\\begin{matrix}T = \\frac{m_j.g}{2.sin(\\alpha)} \\\\ T = m_{cw}.g\\end{matrix}\\right. \n",
    "\\end{align}\n",
    "$\n",
    "\n",
    "These two equations combined give us:\n",
    "\n",
    "$\n",
    "\\begin{align}\n",
    "\\frac{m_j.g}{2.sin(\\alpha)} = m_{cw}.g\n",
    "\\end{align}\n",
    "$\n",
    "\n",
    "This allow us to find the mass of the counterweight as a function of the _mass of the jeans_ and of the _angle that the cable makes with the horizon_:\n",
    "\n",
    "<div style=\"display:inline-block;border:1px solid gray;padding:10px 10px 0px 10px;margin:0px;\">\n",
    "\n",
    "$$m_{cw} = \\frac{m_j}{2.sin(\\alpha)}$$\n",
    "\n",
    "</div>\n"
   ]
  },
  {
   "cell_type": "markdown",
   "metadata": {},
   "source": [
    "### Conclusion\n",
    "\n",
    "When the cable approaches the horizon, $\\alpha$ is really small i.e. really close to zero.\n",
    "This means that $sin(\\alpha)$ is also close to zero, which means in turn that $m_{cw}$ is very big.\n",
    "Therefore, **the more we want the cable to be close to the horizon, the bigger $m_{cw}$ we will need!**\n",
    "\n",
    "Mathematically speaking, the limit of the expression defining the mass of the counterweight when alpha tends to 0 is:\n",
    "\n",
    "$\n",
    "\\begin{align}\n",
    "\\lim_{\\alpha\\to0}m_{cw} = \\lim_{\\alpha\\to0}\\frac{m_j}{2.sin(\\alpha)} = +\\infty\n",
    "\\end{align}\n",
    "$\n",
    "\n",
    "So basically, we would need to put an **infinitely heavy counterweight** to make the angle null and that is why it is impossible to get the cable taut so that it is absolutely straight (the cable would break before that!)...\n"
   ]
  },
  {
   "cell_type": "markdown",
   "metadata": {},
   "source": [
    "### Numerical application\n",
    "\n",
    "We have already defined above the constant `m` which represents the mass of our jeans (3 kg).\n",
    "\n",
    "Let's define a Python function that represents the above equation.\n",
    "\n",
    "The function takes two input parameters, `m` which represents the mass of our jeans and `alpha`, the angle that the cable makes with the horizon.\n",
    "\n",
    "It returns the mass of the counterweight as computed with the equation above.\n",
    "\n",
    "```python\n",
    "# Define the function\n",
    "def counterweight_mass(m, alpha):\n",
    "    return m / (2 * np.sin(alpha))\n",
    "\n",
    "\n",
    "# And display a message once it is defined\n",
    "print(\"Function defined.\")\n",
    "```\n"
   ]
  },
  {
   "cell_type": "code",
   "execution_count": 23,
   "metadata": {},
   "outputs": [
    {
     "name": "stdout",
     "output_type": "stream",
     "text": [
      "Function defined.\n"
     ]
    }
   ],
   "source": [
    "# Define the function\n",
    "def counterweight_mass(m, alpha):\n",
    "    return m / (2 * np.sin(alpha))\n",
    "\n",
    "\n",
    "# And display a message once it is defined\n",
    "print(\"Function defined.\")"
   ]
  },
  {
   "cell_type": "markdown",
   "metadata": {},
   "source": [
    "For an angle $\\alpha$ of $1.5^\\circ$, we need to put a counterweight of:\n",
    "\n",
    "```python\n",
    "# Choose a value for angle alpha\n",
    "alpha = 1.5\n",
    "\n",
    "# Then convert it to radians\n",
    "alpha_radians = degrees_to_radians(alpha)\n",
    "\n",
    "# Compute the mass of the counterweight using our function\n",
    "m_cw = counterweight_mass(m, alpha_radians)\n",
    "\n",
    "# And print the result\n",
    "print(\"Mass of the counterweight: m_cw =\", m_cw, \"kg\")\n",
    "```\n"
   ]
  },
  {
   "cell_type": "code",
   "execution_count": 24,
   "metadata": {},
   "outputs": [
    {
     "name": "stdout",
     "output_type": "stream",
     "text": [
      "Mass of the counterweight: m_cw = 57.30232502116567 kg\n"
     ]
    }
   ],
   "source": [
    "# Choose a value for angle alpha\n",
    "alpha = 1.5\n",
    "\n",
    "# Then convert it to radians\n",
    "alpha_radians = degrees_to_radians(alpha)\n",
    "\n",
    "# Compute the mass of the counterweight using our function\n",
    "m_cw = counterweight_mass(m, alpha_radians)\n",
    "\n",
    "# And print the result\n",
    "print(\"Mass of the counterweight: m_cw =\", m_cw, \"kg\")"
   ]
  }
 ],
 "metadata": {
  "kernelspec": {
   "display_name": "Python",
   "language": "python",
   "name": "python3"
  },
  "language_info": {
   "codemirror_mode": {
    "name": "ipython",
    "version": 3
   },
   "file_extension": ".py",
   "mimetype": "text/x-python",
   "name": "python",
   "nbconvert_exporter": "python",
   "pygments_lexer": "ipython3",
   "version": "3.9.16"
  },
  "toc-autonumbering": false,
  "toc-showcode": false,
  "toc-showmarkdowntxt": false
 },
 "nbformat": 4,
 "nbformat_minor": 4
}
