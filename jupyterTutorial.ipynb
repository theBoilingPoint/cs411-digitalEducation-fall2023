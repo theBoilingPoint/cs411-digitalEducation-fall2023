{
 "cells": [
  {
   "cell_type": "markdown",
   "id": "8eb6f6fd",
   "metadata": {},
   "source": [
    "# CS411 Jupyter Notebook Crash Course\n",
    "\n",
    "This Notebook teaches you the basic functionalities of Jupyter Notebook and why we should use them. Please feel free to skip it if you are already familiar with Jupyter Notebook.\n",
    "\n",
    "Let's get right into it!\n",
    "\n",
    "## Table of Contents\n",
    "\n",
    "- [Guidelines of Designing an Educational Notebook](#guidelines-of-designing-an-educational-notebook)\n",
    "- [How to Create a Notebook](#how-to-create-a-notebook)\n",
    "- [Inserting an Image](#inserting-an-image)\n",
    "  - [Option One: Use Code](#option-one-use-code)\n",
    "  - [Option Two: Drag and Drop](#option-two-drag-and-drop)\n",
    "- [Integrating a Video](#integrating-a-video)\n",
    "- [Formatting Text](#formatting-text)\n",
    "  - [Create a Highlighted Paragraph](#create-a-highlighted-paragraph)\n",
    "  - [Create the Link to another Notebook](#create-the-link-to-another-notebook)\n",
    "  - [Code Presentation](#code-presentation)\n",
    "- [Integrating a Quiz](#integrating-a-quiz)\n",
    "  - [How to Create a Quiz](#how-to-create-a-quiz)\n",
    "- [Inserting a Raw Cell](#inserting-a-raw-cell)\n",
    "- [Provide Feedback](#provide-feedback)\n",
    "  - [Option 1: Hidden Markdown or Code cell](#option-1-hidden-markdown-or-code-cell)\n",
    "  - [Option 2: Separate File](#option-2-separate-file)\n",
    "  - [Option 3: Automated Generation of Student Copy from Solution](#option-3-automated-generation-of-student-copy-from-solution)\n",
    "- [Receive Feedback](#receive-feedback)\n",
    "- [Voilà](#voilà)\n",
    "  - [Important Note](#important-note)\n"
   ]
  },
  {
   "cell_type": "markdown",
   "id": "dccba62a",
   "metadata": {},
   "source": [
    "<hr/>\n"
   ]
  },
  {
   "cell_type": "markdown",
   "id": "bd530157",
   "metadata": {},
   "source": [
    "## Guidelines of Designing an Educational Notebook\n",
    "\n",
    "We want to create a notebook that:\n",
    "\n",
    "- **Scaffold**: importance of progression\n",
    "  - Include preparatory activities before complex tasks\n",
    "  - Teach problem solving strategies explicitly\n",
    "- **Optimise** the _germane load_: effort that pays back\n",
    "  - Use reflection questions\n",
    "  - Provide feedback\n",
    "- **Limit** the _extraneous load_: issues with presentation / format\n",
    "  - Limit the length of your text, highlight important points and use an explicit structure\n",
    "  - Hide unnecessary code and relate code to other representations\n",
    "\n",
    "You will see the essential functions to implement these principles in the following sections.\n",
    "\n",
    "**The keyboard shortcut to execute a cell is `Shift + Enter`.**"
   ]
  },
  {
   "cell_type": "markdown",
   "id": "b95155cf",
   "metadata": {},
   "source": [
    "<hr/>\n"
   ]
  },
  {
   "cell_type": "markdown",
   "id": "6114e625",
   "metadata": {},
   "source": [
    "## How to Create a Notebook\n",
    "\n",
    "1. Connect to [Noto](https://noto.epfl.ch).\n",
    "2. Open the folder “CS411-notebookexamples”.\n",
    "3. Create a new notebook:\n",
    "   - Click on the blue `+` button at the top left of the workspace.\n",
    "   - Select `Python 3` (or another language if you prefer) in the notebook category.\n",
    "4. Rename your notebook (right-click on your notebook, then choose `Rename` in the menu).\n",
    "5. Add some content:\n",
    "   1. Add a new cell to your notebook (`+` button at the top of the notebook).\n",
    "   2. Convert it to a Markdown cell (dropdown menu at the top of the notebook).\n",
    "   3. Write some text and then `execute` the cell to render it.\n"
   ]
  },
  {
   "cell_type": "markdown",
   "id": "dc1588ec",
   "metadata": {},
   "source": [
    "## Inserting an Image\n"
   ]
  },
  {
   "cell_type": "markdown",
   "id": "d0210aa5",
   "metadata": {},
   "source": [
    "### Option One: Use Code\n",
    "\n",
    "1. Navigate to a folder into your workspace.\n",
    "2. Drag-and-drop the image file onto your workspace to upload it.\n",
    "3. Use Markdown or HMTL to insert the image into your notebook using the path to the image file.\n",
    "\n",
    "The syntax is as follows:\n",
    "\n",
    "- Markdown:\n",
    "  ```\n",
    "  ![alternative text](path-to-image)\n",
    "  ```\n",
    "- HTML:\n",
    "  ```\n",
    "  <img src=\"path-to-image\" alt=\"Alternative text\" />\n",
    "  ```\n"
   ]
  },
  {
   "cell_type": "markdown",
   "id": "d1cd8843",
   "metadata": {},
   "source": [
    "### Option Two: Drag and Drop\n",
    "\n",
    "1. Edit a Markdown cell.\n",
    "2. Drag-and-drop your image directly onto that cell.\n"
   ]
  },
  {
   "cell_type": "markdown",
   "id": "76d9db67",
   "metadata": {},
   "source": [
    "<hr/>\n",
    "    <b>You can try it out in this markdown cell!</b>\n",
    "<hr/>\n"
   ]
  },
  {
   "cell_type": "markdown",
   "id": "1f2ee069",
   "metadata": {},
   "source": [
    "## Integrating a Video\n"
   ]
  },
  {
   "cell_type": "markdown",
   "id": "d1d2fc74",
   "metadata": {},
   "source": [
    "Once again, to directly embed a video in **markdown**, you can use the following syntax:\n",
    "\n",
    "```\n",
    "<iframe src=\"https://tube.switch.ch/embed/QYUxxtMawn\" width=\"640\" height=\"360\" frameborder=\"0\" allow=\"fullscreen\" allowfullscreen>\n",
    "</iframe>\n",
    "```\n",
    "\n",
    "It will look like this:\n",
    "\n",
    "<iframe src=\"https://tube.switch.ch/embed/QYUxxtMawn\" width=\"640\" height=\"360\" frameborder=\"0\" allow=\"fullscreen\" allowfullscreen>\n",
    "</iframe>\n"
   ]
  },
  {
   "cell_type": "markdown",
   "id": "af175a54",
   "metadata": {},
   "source": [
    "<hr/>\n",
    "    <b>You can try it out in this markdown cell!</b>\n",
    "<hr/>\n"
   ]
  },
  {
   "cell_type": "markdown",
   "id": "5abf0734",
   "metadata": {},
   "source": [
    "In a **code cell**, the syntax is this:\n",
    "\n",
    "```\n",
    "from IPython.display import IFrame\n",
    "\n",
    "IFrame('https://tube.switch.ch/embed/QYUxxtMawn', 640, 360)\n",
    "```\n",
    "\n",
    "It will look like this:\n"
   ]
  },
  {
   "cell_type": "code",
   "execution_count": 4,
   "id": "ab00fdc7",
   "metadata": {},
   "outputs": [
    {
     "data": {
      "text/html": [
       "\n",
       "        <iframe\n",
       "            width=\"640\"\n",
       "            height=\"360\"\n",
       "            src=\"https://tube.switch.ch/embed/QYUxxtMawn\"\n",
       "            frameborder=\"0\"\n",
       "            allowfullscreen\n",
       "            \n",
       "        ></iframe>\n",
       "        "
      ],
      "text/plain": [
       "<IPython.lib.display.IFrame at 0x7fe1e01f7730>"
      ]
     },
     "execution_count": 4,
     "metadata": {},
     "output_type": "execute_result"
    }
   ],
   "source": [
    "from IPython.display import IFrame\n",
    "\n",
    "IFrame(\"https://tube.switch.ch/embed/QYUxxtMawn\", 640, 360)"
   ]
  },
  {
   "cell_type": "markdown",
   "id": "767e2f73",
   "metadata": {},
   "source": [
    "<hr/>\n",
    "    <b>You can try it out yourself in the cell below.</b>\n",
    "<hr/>\n"
   ]
  },
  {
   "cell_type": "code",
   "execution_count": 5,
   "id": "9d617eee",
   "metadata": {},
   "outputs": [],
   "source": [
    "# Your code here"
   ]
  },
  {
   "cell_type": "markdown",
   "id": "4b461b04",
   "metadata": {},
   "source": [
    "## Formatting Text\n",
    "\n",
    "> ### Why Formatting Text?\n",
    ">\n",
    "> It is very easy to get lost in a notebook, especially when it is long, due to issues with attention and memorisation. Therefore, it is important to format your text in a way that is easy to read and understand. Formally, we want to limit the **extraneous cognitive load** imposed on the students.\n",
    ">\n",
    "> #### Solutions\n",
    ">\n",
    "> - Use an _explicit structure_\n",
    "> - Provide an _overview_\n",
    ">   - e.g. diagram\n",
    "> - _Highlight_ important parts\n",
    "> - _Limit_ the length\n",
    ">   - e.g. split into several notebooks\n"
   ]
  },
  {
   "cell_type": "markdown",
   "id": "3e3ff6a9",
   "metadata": {},
   "source": [
    "### Create a Highlighted Paragraph\n",
    "\n",
    "You can use the following syntax in **markdown** to do so:\n",
    "\n",
    "```\n",
    "<div style=\"padding:8px 0px 8px 15px;border-left:3px solid #B51F1F;background-color:#F3F3F3;\">\n",
    "    <span style=\"font-weight:bold;text-decoration:underline\">\n",
    "        Activity\n",
    "    </span>\n",
    "    <br/>\n",
    "</div>\n",
    "```\n",
    "\n",
    "It will look like this:\n",
    "\n",
    "<div style=\"padding:8px 0px 8px 15px;border-left:3px solid #B51F1F;background-color:#F3F3F3;\">\n",
    "    <span style=\"font-weight:bold;text-decoration:underline\">\n",
    "        Activity\n",
    "    </span>\n",
    "    <br/>\n",
    "</div>\n"
   ]
  },
  {
   "cell_type": "markdown",
   "id": "5e0c5798",
   "metadata": {},
   "source": [
    "### Create the Link to another Notebook\n",
    "\n",
    "You can use the following syntax in **markdown** to do so:\n",
    "\n",
    "```\n",
    "[Text of the link](path-to-notebook.ipynb)\n",
    "<a href=\"path-to-notebook.ipynb\"/>Text of the link</a>\n",
    "```\n"
   ]
  },
  {
   "cell_type": "markdown",
   "id": "7fe838bd",
   "metadata": {},
   "source": [
    "### Code Presentation\n",
    "You should only show students the part of the code that is necessary for learning. Moreover, the part of the code you present should be well documented. You can also relate your code to other representations (i.e. the *pivot* elements), such as a diagram or a table.\n",
    "\n",
    "Great examples can be found in the other provided [Notebook](./jupyterExample.ipynb)."
   ]
  },
  {
   "cell_type": "markdown",
   "id": "659b1906",
   "metadata": {},
   "source": [
    "<hr/>\n",
    "    <b>You can try it out in this markdown cell!</b>\n",
    "<hr/>\n"
   ]
  },
  {
   "cell_type": "markdown",
   "id": "486ec74e",
   "metadata": {},
   "source": [
    "## Integrating a Quiz\n",
    "\n",
    "> ### Why Quiz?\n",
    ">\n",
    "> Quiz is a simple yet effective way to **scaffold** the intrinsic cognitive load. Imagine you have introduced some new concepts and simple activities to your students and now you want to spice up the game so that they can have a better understanding of the materials. Then quizzes are your best friend.\n",
    ">\n",
    "> The image below shows the complexity of different types of quizzes. The more complex the quiz is, the more cognitive load it will impose on the students. Therefore, it is important to choose the right type of quiz for your students.\n",
    "> ![Quiz Complexity](./assets/imgs/quiz_complexity.jpg)\n",
    "\n",
    "### How to Create a Quiz\n",
    "\n",
    "1. Create an “[interactive content](https://docs.moodle.org/402/en/Interactive_Content_-_H5P_activity)” activity in Moodle (H5P).\n",
    "   - Check [here](https://docs.moodle.org/402/en/Quiz_activity) for details on the quiz activity.\n",
    "2. Check the visibility of the activity\n",
    "   - Who has access to the course page?\n",
    "   - Is the activity visible/available?\n",
    "\n",
    "> More details [here](https://go.epfl.ch/noto-quiz).\n"
   ]
  },
  {
   "cell_type": "markdown",
   "id": "296eef5d",
   "metadata": {},
   "source": [
    "Once you have setup the access rights to your quiz, you can either embed it directly in **markdown** or a **Python code cell**.\n",
    "\n",
    "In markdown, you can use the following syntax:\n",
    "\n",
    "```\n",
    "<iframe src=\"https://moodle.epfl.ch/mod/hvp/embed.php?id=1213682\" width=\"1556\" height=\"310\" frameborder=\"0\" allowfullscreen=\"allowfullscreen\" title=\"MonthsQuestion\"></iframe>\n",
    "```\n",
    "\n",
    "It will look like this:\n",
    "\n",
    "<iframe src=\"https://moodle.epfl.ch/mod/hvp/embed.php?id=1213682\" width=\"1556\" height=\"310\" frameborder=\"0\" allowfullscreen=\"allowfullscreen\" title=\"MonthsQuestion\"></iframe>\n"
   ]
  },
  {
   "cell_type": "markdown",
   "id": "a17d2442",
   "metadata": {},
   "source": [
    "In a code cell, you can use the following syntax:\n",
    "\n",
    "```\n",
    "from IPython.display import IFrame\n",
    "\n",
    "IFrame('https://moodle.epfl.ch/mod/hvp/embed.php?id=1213682', 500, 350)\n",
    "```\n",
    "\n",
    "It will look like this:\n"
   ]
  },
  {
   "cell_type": "code",
   "execution_count": 6,
   "id": "cf3fc6e9",
   "metadata": {},
   "outputs": [
    {
     "data": {
      "text/html": [
       "\n",
       "        <iframe\n",
       "            width=\"500\"\n",
       "            height=\"350\"\n",
       "            src=\"https://moodle.epfl.ch/mod/hvp/embed.php?id=1213682\"\n",
       "            frameborder=\"0\"\n",
       "            allowfullscreen\n",
       "            \n",
       "        ></iframe>\n",
       "        "
      ],
      "text/plain": [
       "<IPython.lib.display.IFrame at 0x7fe1e01ed0d0>"
      ]
     },
     "execution_count": 6,
     "metadata": {},
     "output_type": "execute_result"
    }
   ],
   "source": [
    "from IPython.display import IFrame\n",
    "\n",
    "IFrame(\"https://moodle.epfl.ch/mod/hvp/embed.php?id=1213682\", 500, 350)"
   ]
  },
  {
   "cell_type": "markdown",
   "id": "066dcee9",
   "metadata": {},
   "source": [
    "<hr/>\n",
    "    <b>You can try it out yourself in the cell below.</b>\n",
    "<hr/>\n"
   ]
  },
  {
   "cell_type": "code",
   "execution_count": 7,
   "id": "51078a91",
   "metadata": {},
   "outputs": [],
   "source": [
    "# Your code here"
   ]
  },
  {
   "cell_type": "markdown",
   "id": "70fba6c2",
   "metadata": {},
   "source": [
    "## Inserting a Raw Cell\n",
    "\n",
    "> ### Why Raw Cell?\n",
    ">\n",
    "> A raw cell for reflections increases the **germane cognitive load**. You help students make sense of what they are doing by asking **why**, **what** and **how**, before/after the learning activities.\n",
    ">\n",
    "> E.g.\n",
    ">\n",
    "> - “Why are you asked to do this?”\n",
    "> - “How do you plan to do this?”\n",
    "> - “What have you learned from doing this?”\n",
    "> - “How does this relate to X?”\n",
    "> - “How could this be used in your project?”\n",
    "> - “What would you do differently next time?”\n"
   ]
  },
  {
   "cell_type": "markdown",
   "id": "4269916b",
   "metadata": {},
   "source": [
    "<hr/>\n",
    "    <b>\n",
    "        So what have you learned from this Notebook? Please write it down in the cell below!\n",
    "    </b>\n",
    "<hr/>\n"
   ]
  },
  {
   "cell_type": "markdown",
   "id": "19dea1f6",
   "metadata": {},
   "source": [
    "Your answer:\n",
    "\n",
    "- I learned that...\n"
   ]
  },
  {
   "cell_type": "markdown",
   "id": "4d046db4",
   "metadata": {},
   "source": [
    "## Provide Feedback\n",
    "> ### Why Feedback?\n",
    "> Providing feedback to your students is another great way to increase the **germane cognitive load**. It helps students correct their mistakes or find better solutions to the problems. The process of retracing what they have done and adding new knowledge to it further reinforces their understanding of the materials.\n",
    "\n",
    "There are multiple ways to provide feedback to your students.\n"
   ]
  },
  {
   "cell_type": "markdown",
   "id": "39e36148",
   "metadata": {},
   "source": [
    "### Option 1: Hidden Markdown or Code cell\n",
    "\n",
    "The advantages of this method:\n",
    "\n",
    "- Immediately available\n",
    "- You can use it to check the state of the Notebook before sharing\n",
    "\n",
    "You can use the HTML syntax in markdown to add a hidden cell:\n",
    "\n",
    "```\n",
    "<details>\n",
    "  <summary>Feedback</summary>\n",
    "\n",
    "  ### Heading\n",
    "  1. Foo\n",
    "  2. Bar\n",
    "     * Baz\n",
    "     * Qux\n",
    "\n",
    "  ### Some Javascript\n",
    "  function logSomething(something) {\n",
    "    console.log('Something', something);\n",
    "  }\n",
    "</details>\n",
    "```\n",
    "\n",
    "It will look like this:\n",
    "\n",
    "<details>\n",
    "  <summary>Feedback</summary>\n",
    "  \n",
    "  ### Heading\n",
    "  1. Foo\n",
    "  2. Bar\n",
    "     * Baz\n",
    "     * Qux\n",
    "\n",
    "### Some Javascript\n",
    "\n",
    "```\n",
    "function logSomething(something) {\n",
    "  console.log('Something', something);\n",
    "}\n",
    "```\n",
    "\n",
    "</details>\n"
   ]
  },
  {
   "cell_type": "markdown",
   "id": "5e06e00f",
   "metadata": {},
   "source": [
    "### Option 2: Separate File\n",
    "\n",
    "The pro and con of this method:\n",
    "\n",
    "- Can be made available with delay ✅\n",
    "- Can be harder to maintain ❌\n"
   ]
  },
  {
   "cell_type": "markdown",
   "id": "8fa5865f",
   "metadata": {},
   "source": [
    "### Option 3: Automated Generation of Student Copy from Solution\n",
    "\n",
    "The advantages of this method:\n",
    "\n",
    "- Easier to maintain\n",
    "- Can be made available with delay\n",
    "- Tags & command line\n"
   ]
  },
  {
   "cell_type": "markdown",
   "id": "66314a04",
   "metadata": {},
   "source": [
    "<hr/>\n",
    "    <b>You can try it out in this markdown cell!</b>\n",
    "<hr/>\n"
   ]
  },
  {
   "cell_type": "markdown",
   "id": "b5ae03d3",
   "metadata": {},
   "source": [
    "## Receive Feedback\n",
    "\n",
    "Currently, when students are working on notebooks, by default the teacher doesn’t get any information on what they are doing.\n",
    "\n",
    "Nevertheless, we can use the integrated tools:\n",
    "\n",
    "- Quiz (H5P/moodle)\n",
    "- Poll (SpeakUp)\n",
    "- Chat (SpeakUp)\n",
    "- Survey (SurveyMonkey)\n",
    "- Code/assignment submission\n",
    "- (_In the future_) Teacher analytics dashboard\n"
   ]
  },
  {
   "cell_type": "markdown",
   "id": "bd6bf327",
   "metadata": {},
   "source": [
    "<hr/>\n"
   ]
  },
  {
   "cell_type": "markdown",
   "id": "cc6e07d7",
   "metadata": {},
   "source": [
    "## Voilà\n",
    "\n",
    "Voilà is an extension that allows you to turn your Notebook into a web application.\n",
    "Using Voilà can limit the editable area of your Notebook to only the interactive elements, and hide the code.\n",
    "You can follow the [repo](https://github.com/voila-dashboards/voila) to install it.\n"
   ]
  },
  {
   "cell_type": "markdown",
   "id": "23d99b8e",
   "metadata": {},
   "source": [
    "To deploy Voilà on your local host, you can `cd` into the directory of your Notebook and run the following command:\n",
    "\n",
    "```\n",
    "voila [name of your Notebook]\n",
    "```\n",
    "\n",
    "> For more information, you can check Voilà's [documentation](https://voila.readthedocs.io/en/stable/using.html).\n"
   ]
  },
  {
   "cell_type": "markdown",
   "id": "ce5d4d1b",
   "metadata": {},
   "source": [
    "### Important Note\n",
    "When deploying Voilà, all blocks will be automatically compiled and students cannot interact with them anymore. \n",
    "\n",
    "Some **solutions** to this problem are:\n",
    "- Embed interactive elements to the Notebook;\n",
    "- Code with HTML in markdown, such as adding input boxes.\n",
    "\n",
    "Please choose wisely the best way to present your Notebook to your students."
   ]
  },
  {
   "cell_type": "markdown",
   "id": "61f5d97d",
   "metadata": {},
   "source": [
    "<hr/>\n",
    "    <b>Try running Voilà on this Notebook!</b>\n",
    "<hr/>\n"
   ]
  }
 ],
 "metadata": {
  "kernelspec": {
   "display_name": "Python 3 (ipykernel)",
   "language": "python",
   "name": "python3"
  },
  "language_info": {
   "codemirror_mode": {
    "name": "ipython",
    "version": 3
   },
   "file_extension": ".py",
   "mimetype": "text/x-python",
   "name": "python",
   "nbconvert_exporter": "python",
   "pygments_lexer": "ipython3",
   "version": "3.11.5"
  },
  "unianalytics_cell_mapping": [
   [
    "8eb6f6fd",
    "8eb6f6fd"
   ],
   [
    "dccba62a",
    "dccba62a"
   ],
   [
    "bd530157",
    "bd530157"
   ],
   [
    "b95155cf",
    "b95155cf"
   ],
   [
    "6114e625",
    "6114e625"
   ],
   [
    "dc1588ec",
    "dc1588ec"
   ],
   [
    "d0210aa5",
    "d0210aa5"
   ],
   [
    "d1cd8843",
    "d1cd8843"
   ],
   [
    "76d9db67",
    "76d9db67"
   ],
   [
    "1f2ee069",
    "1f2ee069"
   ],
   [
    "d1d2fc74",
    "d1d2fc74"
   ],
   [
    "af175a54",
    "af175a54"
   ],
   [
    "5abf0734",
    "5abf0734"
   ],
   [
    "ab00fdc7",
    "ab00fdc7"
   ],
   [
    "767e2f73",
    "767e2f73"
   ],
   [
    "9d617eee",
    "9d617eee"
   ],
   [
    "4b461b04",
    "4b461b04"
   ],
   [
    "3e3ff6a9",
    "3e3ff6a9"
   ],
   [
    "5e0c5798",
    "5e0c5798"
   ],
   [
    "7fe838bd",
    "7fe838bd"
   ],
   [
    "659b1906",
    "659b1906"
   ],
   [
    "486ec74e",
    "486ec74e"
   ],
   [
    "296eef5d",
    "296eef5d"
   ],
   [
    "a17d2442",
    "a17d2442"
   ],
   [
    "cf3fc6e9",
    "cf3fc6e9"
   ],
   [
    "066dcee9",
    "066dcee9"
   ],
   [
    "51078a91",
    "51078a91"
   ],
   [
    "70fba6c2",
    "70fba6c2"
   ],
   [
    "4269916b",
    "4269916b"
   ],
   [
    "19dea1f6",
    "19dea1f6"
   ],
   [
    "4d046db4",
    "4d046db4"
   ],
   [
    "39e36148",
    "39e36148"
   ],
   [
    "5e06e00f",
    "5e06e00f"
   ],
   [
    "8fa5865f",
    "8fa5865f"
   ],
   [
    "66314a04",
    "66314a04"
   ],
   [
    "b5ae03d3",
    "b5ae03d3"
   ],
   [
    "bd6bf327",
    "bd6bf327"
   ],
   [
    "cc6e07d7",
    "cc6e07d7"
   ],
   [
    "23d99b8e",
    "23d99b8e"
   ],
   [
    "ce5d4d1b",
    "ce5d4d1b"
   ],
   [
    "61f5d97d",
    "61f5d97d"
   ]
  ],
  "unianalytics_instance_id": "8b4a27f9-d895-4751-98af-8e847a1f444d",
  "unianalytics_notebook_id": "df556f51-2967-4fed-9dd5-7960b394b1ff"
 },
 "nbformat": 4,
 "nbformat_minor": 5
}
